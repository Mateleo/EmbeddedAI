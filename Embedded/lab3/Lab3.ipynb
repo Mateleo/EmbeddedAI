{
  "cells": [
    {
      "cell_type": "markdown",
      "metadata": {
        "id": "wHGC0EFt3aZF"
      },
      "source": [
        "# Neural networks quantization\n",
        "\n",
        "Today we will deal with neural networks quantization!\n",
        "\n",
        "Remember that our goal is to reduce network size while keeping the accuracy high!\n",
        "\n",
        "For this purpose we will use Intel's OpenVINO and Neural Network Compression Framework (NNCF). Be aware that there are other frameworks to choose from: build-in PyTorch quantization, Brevitas from Xilinx, TensorRT and others.\n",
        "\n",
        "Use this link for OpenVINO reference and documentation: https://docs.openvino.ai/2023.0/home.html.\n",
        "\n",
        "First, install and import necessary libraries."
      ]
    },
    {
      "cell_type": "code",
      "execution_count": null,
      "metadata": {
        "colab": {
          "base_uri": "https://localhost:8080/"
        },
        "id": "bNKDyp4Ssmcw",
        "outputId": "14295079-e195-46e3-b850-9da539b869f1"
      },
      "outputs": [],
      "source": [
        "# !pip3 install openvino\n",
        "# !pip3 install nncf"
      ]
    },
    {
      "cell_type": "code",
      "execution_count": null,
      "metadata": {
        "id": "1n_xcqlrsaMY"
      },
      "outputs": [],
      "source": [
        "import torch\n",
        "import nncf\n",
        "import openvino as ov\n",
        "import time\n",
        "import numpy as np\n",
        "import tqdm\n",
        "\n",
        "from nncf import NNCFConfig\n",
        "from nncf.torch import create_compressed_model, register_default_init_args\n",
        "from openvino.runtime.ie_api import CompiledModel\n",
        "from torch import nn\n",
        "from torch.utils.data import DataLoader\n",
        "from torchvision import datasets\n",
        "from torchvision.transforms import ToTensor, RandomRotation\n",
        "from typing import Union, List, Tuple, Any\n",
        "from abc import ABC, abstractmethod\n"
      ]
    },
    {
      "cell_type": "markdown",
      "metadata": {
        "id": "vEGYhjeZ453d"
      },
      "source": [
        "Let's start with...\n",
        "\n",
        "##Quantizing Models Post-training\n",
        "\n",
        "Post-training model optimization is the process of applying special methods that transform the model into a more hardware-friendly representation without retraining or fine-tuning. The most popular and widely-spread method here is 8-bit post-training quantization because:\n",
        "\n",
        "- It is easy-to-use.\n",
        "- It does not hurt accuracy a lot.\n",
        "- It provides significant performance improvement.\n",
        "- It suites many hardware devices available in stock since most of them support 8-bit computation natively.\n",
        "\n",
        "8-bit integer quantization lowers the precision of weights and activations to 8 bits, which leads to significant reduction in the model footprint and significant improvements in inference speed.\n",
        "\n",
        "Source: https://docs.openvino.ai/2023.0/ptq_introduction.html.\n",
        "\n",
        "So, first, we need a model to quantize.\n",
        "Reuse the CNN model from Laboratory 1 (along with training loops, metrics, optimizers and loss function). You can also use the CNN defined below.\n",
        "\n",
        "Train it for 5 epochs with MNIST dataset. You should get around ~90% accuracy.\n",
        "\n",
        "Name the final trained model `CNN_MNIST`."
      ]
    },
    {
      "cell_type": "code",
      "execution_count": null,
      "metadata": {
        "id": "cf507ijlfZgH"
      },
      "outputs": [],
      "source": [
        "device = torch.device(\"cuda:0\" if (torch.cuda.is_available()) else \"cpu\")"
      ]
    },
    {
      "cell_type": "code",
      "execution_count": null,
      "metadata": {
        "id": "6hbs9MatX7e3"
      },
      "outputs": [],
      "source": [
        "from typing import Tuple\n",
        "import tqdm\n",
        "import torch\n",
        "\n",
        "def train_or_test(model, data_generator, criterion, metric, mode='test', optimizer=None, update_period=None, device=device) -> Tuple[torch.nn.Module, float, float]:\n",
        "    # Change model mode to train or test\n",
        "    if mode == 'train':\n",
        "        model.train()\n",
        "    elif mode == 'test':\n",
        "        model.eval()\n",
        "    else:\n",
        "        raise RuntimeError(\"Unsupported mode.\")\n",
        "\n",
        "    # Move model to the specified device\n",
        "    model.to(device)\n",
        "\n",
        "    total_loss = 0.0\n",
        "    total_accuracy = 0.0\n",
        "    samples_num = 0\n",
        "\n",
        "    for i, (X, y) in tqdm.tqdm(enumerate(data_generator)):\n",
        "        # Convert tensors to the specified device\n",
        "        X, y = X.to(device), y.to(device)\n",
        "\n",
        "        # Process input data through the network\n",
        "        y_pred = model(X)\n",
        "\n",
        "        # Calculate loss\n",
        "        loss = criterion(y_pred, y)\n",
        "\n",
        "        # Reset gradients and perform backpropagation if in training mode\n",
        "        if mode == 'train':\n",
        "            optimizer.zero_grad(set_to_none=True)\n",
        "            loss.backward()\n",
        "            optimizer.step()\n",
        "\n",
        "        # Calculate accuracy\n",
        "        accuracy = metric(y_pred, y)\n",
        "\n",
        "        total_loss += loss.item() * y_pred.size(0)\n",
        "        total_accuracy += accuracy.item() * y_pred.size(0)\n",
        "        samples_num += y_pred.size(0)\n",
        "\n",
        "    if samples_num == 0:\n",
        "        return model, 0.0, 0.0\n",
        "\n",
        "    return model, total_loss / samples_num, total_accuracy / samples_num\n"
      ]
    },
    {
      "cell_type": "code",
      "execution_count": null,
      "metadata": {
        "id": "_ekc_88ZX7e4"
      },
      "outputs": [],
      "source": [
        "import matplotlib.pyplot as plt\n",
        "\n",
        "def train_and_display(model, train_loader, test_loader, criterion, metric, optimizer, device, num_epochs):\n",
        "    train_losses = []\n",
        "    test_losses = []\n",
        "    train_accuracies = []\n",
        "    test_accuracies = []\n",
        "\n",
        "    for epoch in range(num_epochs):\n",
        "        # Training phase\n",
        "        model, train_loss, train_accuracy = train_or_test(\n",
        "            model, train_loader, criterion, metric, mode='train', optimizer=optimizer, device=device)\n",
        "        train_losses.append(train_loss)\n",
        "        train_accuracies.append(train_accuracy)\n",
        "\n",
        "        # Testing phase\n",
        "        model, test_loss, test_accuracy = train_or_test(\n",
        "            model, test_loader, criterion, metric, mode='test', device=device)\n",
        "        test_losses.append(test_loss)\n",
        "        test_accuracies.append(test_accuracy)\n",
        "\n",
        "        print(f\"Epoch {epoch + 1}/{num_epochs}:\")\n",
        "        print(f\"  Train Loss: {train_loss:.4f}  Train Accuracy: {train_accuracy:.4f}\")\n",
        "        print(f\"  Test Loss: {test_loss:.4f}  Test Accuracy: {test_accuracy:.4f}\")\n",
        "\n",
        "    # # Plot training history\n",
        "    # plt.figure(figsize=(12, 5))\n",
        "    # plt.subplot(1, 2, 1)\n",
        "    # plt.plot(train_losses, label='Train Loss')\n",
        "    # plt.plot(test_losses, label='Test Loss')\n",
        "    # plt.xlabel('Epoch')\n",
        "    # plt.ylabel('Loss')\n",
        "    # plt.legend()\n",
        "    # plt.title('Loss History')\n",
        "\n",
        "    # plt.subplot(1, 2, 2)\n",
        "    # plt.plot(train_accuracies, label='Train Accuracy')\n",
        "    # plt.plot(test_accuracies, label='Test Accuracy')\n",
        "    # plt.xlabel('Epoch')\n",
        "    # plt.ylabel('Accuracy')\n",
        "    # plt.legend()\n",
        "    # plt.title('Accuracy History')\n",
        "\n",
        "    # plt.show()\n",
        "    return model\n"
      ]
    },
    {
      "cell_type": "code",
      "execution_count": null,
      "metadata": {
        "id": "l0E0q0jcX7e5"
      },
      "outputs": [],
      "source": [
        "from abc import ABC, abstractmethod\n",
        "from typing import Any\n",
        "\n",
        "\n",
        "class BaseMetric(ABC):\n",
        "\n",
        "    @abstractmethod\n",
        "    def __call__(self, y_pred, y_ref) -> Any:\n",
        "        raise NotImplementedError()\n",
        "\n",
        "\n",
        "\n",
        "class AccuracyMetric(BaseMetric):\n",
        "\n",
        "    def __init__(self) -> None:\n",
        "        pass\n",
        "\n",
        "    @torch.no_grad()\n",
        "    def __call__(self, y_pred: torch.Tensor, y_ref: torch.Tensor) -> torch.Tensor:\n",
        "        \"\"\"\n",
        "        :param y_pred: tensor of shape (batch_size, num_of_classes) type float\n",
        "        :param y_ref: tensor with shape (batch_size,) and type Long\n",
        "        :return: scalar tensor with accuracy metric for batch\n",
        "        \"\"\"\n",
        "        # Get the predicted class (index with the highest probability) for each sample\n",
        "        predicted_classes = y_pred.argmax(dim=1)\n",
        "\n",
        "        # Compare the predicted classes to the reference labels\n",
        "        correct_predictions = (predicted_classes == y_ref).sum().item()\n",
        "\n",
        "        # Calculate the accuracy\n",
        "        accuracy = correct_predictions / y_ref.size(0)  # Divide by the batch size\n",
        "\n",
        "        return torch.tensor(accuracy)\n",
        "\n",
        "metric = AccuracyMetric()"
      ]
    },
    {
      "cell_type": "code",
      "execution_count": null,
      "metadata": {
        "id": "5BM76dcHX7e6"
      },
      "outputs": [],
      "source": [
        "import torchvision\n",
        "import torchvision.transforms as transforms\n",
        "from torch.utils.data import DataLoader\n",
        "\n",
        "# Define the transformations\n",
        "train_transform = transforms.Compose([\n",
        "    transforms.RandomRotation(10),  # Random rotation up to 10 degrees\n",
        "    transforms.RandomCrop(28, padding=4),  # Random crop with padding\n",
        "    transforms.RandomAffine(degrees=0, translate=(0.1, 0.1)),  # Random translation\n",
        "    transforms.ToTensor()  # Convert to a PyTorch tensor\n",
        "])\n",
        "\n",
        "test_transform = transforms.Compose([\n",
        "    transforms.ToTensor()\n",
        "])\n",
        "\n",
        "train_dataset = torchvision.datasets.MNIST(root='./data', train=True, transform=train_transform, download=True)\n",
        "test_dataset = torchvision.datasets.MNIST(root='./data', train=False, transform=test_transform, download=True)\n",
        "\n",
        "batch_size = 32\n",
        "train_loader = DataLoader(train_dataset, batch_size=batch_size, shuffle=True)\n",
        "test_loader = DataLoader(test_dataset, batch_size=batch_size, shuffle=False)"
      ]
    },
    {
      "cell_type": "code",
      "execution_count": null,
      "metadata": {
        "colab": {
          "base_uri": "https://localhost:8080/"
        },
        "id": "7cnaAnDMsovx",
        "outputId": "85b29f5f-f8c8-4680-d231-1b1cffa63a75"
      },
      "outputs": [],
      "source": [
        "import torch.optim as optim\n",
        "class CNN(torch.nn.Module):\n",
        "    def __init__(self, input_shape, num_of_cls) -> None:\n",
        "        super().__init__()\n",
        "        ch_in = input_shape[0]\n",
        "        self.CNN = nn.Sequential(\n",
        "            # input shape = [1,28,28]\n",
        "            nn.Conv2d(ch_in, 32, 3, padding=(1, 1)),  # shape [32,28,28]\n",
        "            nn.BatchNorm2d(32),  # shape [32,28,28]\n",
        "            nn.ReLU(),  # shape [32,28,28]\n",
        "            nn.MaxPool2d(2, 2),  # shape [32,14,14]\n",
        "            nn.Conv2d(32, 64, 3, padding=(1, 1)),  # shape [64,14,14]\n",
        "            nn.BatchNorm2d(64),  # shape [64,14,14]\n",
        "            nn.ReLU(),  # shape [64,14,14]\n",
        "            nn.MaxPool2d(2, 2),  # shape [64,7,7]\n",
        "            nn.Conv2d(64, 128, 3),  # shape [128,5,5]\n",
        "            nn.BatchNorm2d(128),  # shape [128,5,5]\n",
        "            nn.ReLU(),  # shape [128,5,5]\n",
        "        )\n",
        "\n",
        "        self.classification_head = nn.Sequential(\n",
        "            nn.Flatten(), nn.Linear(128 * 5 * 5, num_of_cls), nn.Softmax(dim=1)\n",
        "        )\n",
        "\n",
        "    def forward(self, x):\n",
        "        x = self.CNN(x)\n",
        "        y = self.classification_head(x)\n",
        "        return y\n",
        "\n",
        "input_shape = (1, 28, 28)  # Assuming 28x28 images with 1 channel\n",
        "num_of_cls = 10  # Adjust the output size for your specific classification problem\n",
        "net = CNN(input_shape, num_of_cls)\n",
        "net = net.to(device)\n",
        "\n",
        "num_epochs = 1\n",
        "learning_rate = 0.001\n",
        "loss_fcn = nn.CrossEntropyLoss()\n",
        "optimizer = optim.SGD(net.parameters(), lr=learning_rate)\n",
        "\n",
        "\n",
        "model = train_and_display(\n",
        "    net, train_loader, test_loader, loss_fcn, metric, optimizer, device, num_epochs\n",
        ")\n",
        "\n",
        "# You can alternatively load .pth file created during Lab1 with torch.load.\n",
        "# Use following code to upload files to colab:\n",
        "# from google.colab import files\n",
        "# files.upload()"
      ]
    },
    {
      "cell_type": "markdown",
      "metadata": {
        "id": "d3rFVqhg8Yd0"
      },
      "source": [
        "Now - we will quantize this model to INT8.\n",
        "\n",
        "NNCF enables post-training quantization (PTQ) by adding the quantization layers into the model graph and then using a subset of the training dataset to initialize the parameters of these additional quantization layers.\n",
        "\n",
        "By default PTQ uses an unannotated dataset to perform quantization. It uses representative dataset items to estimate the range of activation values in a network and then quantizes the network.\n",
        "\n",
        "Create an instance of `nncf.Dataset` class by passing two parameters:\n",
        "- data_source (PyTorch loader containing training samples)\n",
        "- transform_fn (to make data suitable for API).\n",
        "\n",
        "Call this instance `calibration_dataset`.\n",
        "\n",
        "Then, quantize `CNN_MNIST` model with `nncf.quantize()` function, which takes as input two parameters - the model and `calibration_dataset`. Call it `quantized_model`."
      ]
    },
    {
      "cell_type": "code",
      "execution_count": null,
      "metadata": {
        "colab": {
          "base_uri": "https://localhost:8080/"
        },
        "id": "jyAzCv3Ta5nx",
        "outputId": "0a826c78-d068-47bc-ded7-f417a2f6f348"
      },
      "outputs": [],
      "source": [
        "print(model)"
      ]
    },
    {
      "cell_type": "code",
      "execution_count": null,
      "metadata": {
        "colab": {
          "base_uri": "https://localhost:8080/"
        },
        "id": "uWIfq-YZtbVY",
        "outputId": "89186492-b1e6-46f4-b537-b961b1dbef50"
      },
      "outputs": [],
      "source": [
        "def transform_fn(data_item):\n",
        "    images, _ = data_item\n",
        "    return images\n",
        "\n",
        "calibration_dataset = nncf.Dataset(train_loader, transform_fn)\n",
        "quantized_model = nncf.quantize(model, calibration_dataset)"
      ]
    },
    {
      "cell_type": "markdown",
      "metadata": {
        "id": "3-khBK9_BfQ1"
      },
      "source": [
        "Finally, we will convert models to OpenVINO Intermediate Representation (IR) format.\n",
        "\n",
        "OpenVINO IR is the proprietary model format of OpenVINO. It is produced after converting a model with model conversion API. It translates the frequently used deep learning operations to their respective similar representation in OpenVINO and tunes them with the associated weights and biases from the trained model. The resulting IR contains two files:\n",
        "- `xml` - Describes the model topology.\n",
        "- `bin` - Contains the weights and binary data.\n",
        "\n",
        "To do that, we'll need `dummy_input` filled with random values and of size:\n",
        "\n",
        "`[batch_size, channel_number, image_shape[0], image_shape[1]]`\n",
        "\n",
        "Create `MNIST_fp32_ir` model with `ov.convert_model` that takes three parameters: the model, the dummy input and input size. Use `CNN_MNIST` model.\n",
        "\n",
        "Then, create `MNIST_int8_ir` model in the same way using `quantized_model`.\n",
        "\n",
        "Save both models to files (named `MNIST_fp32_ir.xml` and `MNIST_int8_ir.xml` respectively). Use `ov.save_model()` function.\n",
        "\n",
        "Finally - compile both models with `core.compile_model` function and use  `validate` function to calculate both models' accuracy."
      ]
    },
    {
      "cell_type": "code",
      "execution_count": null,
      "metadata": {
        "colab": {
          "base_uri": "https://localhost:8080/"
        },
        "id": "8CcYxirUfBV1",
        "outputId": "002b0d64-0e53-4b52-8cc1-5ae951836d61"
      },
      "outputs": [],
      "source": [
        "device"
      ]
    },
    {
      "cell_type": "code",
      "execution_count": null,
      "metadata": {},
      "outputs": [],
      "source": [
        "core = ov.Core()\n",
        "devices = core.available_devices"
      ]
    },
    {
      "cell_type": "code",
      "execution_count": null,
      "metadata": {},
      "outputs": [],
      "source": [
        "devices[0]"
      ]
    },
    {
      "cell_type": "code",
      "execution_count": 17,
      "metadata": {
        "colab": {
          "base_uri": "https://localhost:8080/",
          "height": 1000
        },
        "id": "2BkQcrOUcn8R",
        "outputId": "ff967f1d-f1f3-42b1-eeea-661aad2b53ba"
      },
      "outputs": [
        {
          "name": "stderr",
          "output_type": "stream",
          "text": [
            "313it [00:03, 94.01it/s] \n"
          ]
        },
        {
          "name": "stdout",
          "output_type": "stream",
          "text": [
            "FP 32 model acc=0.6372\n"
          ]
        },
        {
          "name": "stderr",
          "output_type": "stream",
          "text": [
            "313it [00:02, 146.47it/s]"
          ]
        },
        {
          "name": "stdout",
          "output_type": "stream",
          "text": [
            "INT 8 model acc=0.6374\n"
          ]
        },
        {
          "name": "stderr",
          "output_type": "stream",
          "text": [
            "\n"
          ]
        }
      ],
      "source": [
        "import torch\n",
        "import openvino as ov\n",
        "from openvino import CompiledModel\n",
        "from torchvision import datasets, transforms\n",
        "from typing import Union\n",
        "import tqdm\n",
        "import time\n",
        "\n",
        "\n",
        "core = ov.Core()\n",
        "dummy_input = torch.randn(1, 1, 28, 28)\n",
        "\n",
        "MNIST_fp32_ir = ov.convert_model(model, example_input=dummy_input, input=[-1, 1, 28, 28])\n",
        "\n",
        "MNIST_int8_ir = ov.convert_model(quantized_model, example_input=dummy_input, input=[-1, 1, 28, 28])\n",
        "\n",
        "ov.save_model(MNIST_fp32_ir, \"mnist_fp32.xml\")  # Fill the filename\n",
        "ov.save_model(MNIST_int8_ir, \"mnist_int8.xml\")  # Fill the filename\n",
        "\n",
        "fp32_compiled_model = core.compile_model(MNIST_fp32_ir, \"CPU\")\n",
        "int8_compiled_model = core.compile_model(MNIST_int8_ir, \"CPU\")\n",
        "\n",
        "def validate(val_loader: torch.utils.data.DataLoader, model: Union[torch.nn.Module, CompiledModel], metric: BaseMetric):\n",
        "    # Switch to evaluate mode.\n",
        "    if not isinstance(model, CompiledModel):\n",
        "        model.eval()\n",
        "        model.to(device)\n",
        "\n",
        "    total_accuracy = 0\n",
        "    samples_num = 0\n",
        "\n",
        "    with torch.no_grad():\n",
        "        for i, (images, target) in tqdm.tqdm(enumerate(val_loader)):\n",
        "            images = images.to(device)\n",
        "            target = target.to(device)\n",
        "\n",
        "            # Ensure the model is on the correct device\n",
        "            if not isinstance(model, CompiledModel):\n",
        "                model.to(device)\n",
        "\n",
        "            # Compute the output.\n",
        "            if isinstance(model, CompiledModel):\n",
        "                output_layer = model.output(0)\n",
        "                output = model(images)[output_layer]\n",
        "                output= torch.from_numpy(output)\n",
        "            else:\n",
        "                output = model(images)\n",
        "\n",
        "            # Measure accuracy and record loss.\n",
        "            accuracy = metric(output, target)\n",
        "            total_accuracy += accuracy.item() * target.shape[0]\n",
        "            samples_num += target.shape[0]\n",
        "\n",
        "    return total_accuracy / samples_num\n",
        "\n",
        "\n",
        "# Assuming you have a DataLoader for validation named 'val_loader'\n",
        "acc1 = validate(val_loader=test_loader, model=fp32_compiled_model, metric=AccuracyMetric())\n",
        "print(f'FP 32 model acc={acc1:.4f}')\n",
        "\n",
        "acc2 = validate(val_loader=test_loader, model=int8_compiled_model, metric=AccuracyMetric())\n",
        "print(f'INT 8 model acc={acc2:.4f}')\n"
      ]
    },
    {
      "cell_type": "markdown",
      "metadata": {
        "id": "lpb_tq9yEKBg"
      },
      "source": [
        "Is INT8 model accuracy similar to FP32 model accuracy? We should hope so!\n",
        "\n",
        "But let's verify what we have saved in terms of memory resources and network throughput!\n",
        "\n",
        "First, check the size of OpenVINO IR binary files. You saved both of them on your drive. Is the INT8 model smaller?"
      ]
    },
    {
      "cell_type": "markdown",
      "metadata": {},
      "source": [
        "We have 244ko vs 120ko"
      ]
    },
    {
      "cell_type": "markdown",
      "metadata": {
        "id": "6vp6wdbtFD6C"
      },
      "source": [
        "Then, use the following code to benchmark both models. Is INT8 model faster?"
      ]
    },
    {
      "cell_type": "markdown",
      "metadata": {},
      "source": [
        "313it [00:03, 94.01it/s] \n",
        "FP 32 model acc=0.6372\n",
        "313it [00:02, 146.47it/s]\n",
        "INT 8 model acc=0.6374\n",
        "\n",
        "INT 8 is faster !"
      ]
    },
    {
      "cell_type": "markdown",
      "metadata": {
        "id": "RPe2aECWFmqF"
      },
      "source": [
        "Note that we used very small network and we deal with very simple task. For bigger models and more complicated networks the perfomance and size differences can be even more significant!\n",
        "\n",
        "**EXTENSION EXERCISE**\n",
        "\n",
        "Read about `Quantizing with Accuracy Control` and try to use it for some pretrained network. Use `nncf.quantize_with_accuracy_control`. You can find pretrained networks with `torchvision.models`."
      ]
    },
    {
      "cell_type": "code",
      "execution_count": null,
      "metadata": {
        "id": "QCm0TMCCFMjq"
      },
      "outputs": [],
      "source": []
    },
    {
      "cell_type": "markdown",
      "metadata": {
        "id": "YpPQPePcGoDL"
      },
      "source": [
        "## Quantization-aware Training (QAT)\n",
        "\n",
        "Training-time model compression improves model performance by applying optimizations (such as quantization) during the training. The training process minimizes the loss associated with the lower-precision optimizations, so it is able to maintain the model’s accuracy while reducing its latency and memory footprint. Generally, training-time model optimization results in better model performance and accuracy than post-training optimization, but it can require more effort to set up.\n",
        "\n",
        "Quantization-aware Training is a popular method that allows quantizing a model and applying fine-tuning to restore accuracy degradation caused by quantization. In fact, this is the most accurate quantization method."
      ]
    },
    {
      "cell_type": "markdown",
      "metadata": {
        "id": "p4ns4TqBHTM_"
      },
      "source": [
        "For this part, let's use a bit harder Dataset. For MNIST, PTQ method was enough, right?\n",
        "\n",
        "Train your CNN model on CIFAR10 dataset for 10-20 epochs (google it!). Use the same training loops, metrics, optimizers and loss function.\n",
        "\n",
        "Name the final trained model `CNN_CIFAR`, convert it to OpenVINO IR and save to an xml file.\n",
        "\n",
        "We start our QAT process with creating compressed models. Just use the following code (fill in the gaps)."
      ]
    },
    {
      "cell_type": "code",
      "execution_count": null,
      "metadata": {
        "id": "xdNDbJp09l3Q"
      },
      "outputs": [],
      "source": [
        "train_dataset = ...\n",
        "test_dataset = ...\n",
        "train_loader = ...\n",
        "test_loader = ...\n",
        "CNN_CIFAR, history = training( ... )\n",
        "\n",
        "# SAVE floating point model converted to OpenVINO IR\n",
        "dummy_input = torch.randn(...) # Create dummy_input\n",
        "CIFAR_fp32_ir = ov.convert_model(...)\n",
        "ov.save_model(CIFAR_fp32_ir, ...) #TODO - FILL THE FILENAME\n",
        "\n",
        "# Compress model\n",
        "nncf_config_dict = {\n",
        "    \"input_info\": {\"sample_size\": [1, ..., ..., ...]}, #Put number of channels, image_size[0] and image_size[1]\n",
        "    \"compression\": {\n",
        "        \"algorithm\": \"quantization\",\n",
        "    },\n",
        "}\n",
        "nncf_config = NNCFConfig.from_dict(nncf_config_dict)\n",
        "nncf_config = register_default_init_args(nncf_config, train_loader)\n",
        "compression_ctrl, CNN_CIFAR_int8 = create_compressed_model(CNN_CIFAR, nncf_config)"
      ]
    },
    {
      "cell_type": "markdown",
      "metadata": {
        "id": "wetn5RnaZzGx"
      },
      "source": [
        "We have our CIFAR CNN model ready to QAT. So... Just train it!\n",
        "\n",
        "Use your `training` function to train `CNN_CIFAR_int8` model for one more epoch!\n",
        "\n",
        "Thanks to OpenVINO API, after creating compressed model all we need to do is to continue training on INT8 model :) We call this process fine-tuning. It is applied to futher improve quantized model accuracy! Normally, several epochs of tuning are required with a small learning rate, the same that is usually used at the end of the training of the original model. No other changes in the training pipeline are required."
      ]
    },
    {
      "cell_type": "code",
      "execution_count": null,
      "metadata": {
        "id": "bj2Va0bwaW0i"
      },
      "outputs": [],
      "source": [
        "CNN_CIFAR_int8_finetuned, history = training( ... ) # just one epoch"
      ]
    },
    {
      "cell_type": "markdown",
      "metadata": {
        "id": "XKp3LbjUbBg-"
      },
      "source": [
        "Convert fine-tuned model to OpenVINO IR, save it to xml and verify both `CIFAR_fp32_ir` and `CIFAR_int8_ir` sizes.\n",
        "\n",
        "Is the INT8 network smaller?"
      ]
    },
    {
      "cell_type": "code",
      "execution_count": null,
      "metadata": {
        "id": "MigLfK-pLVqA"
      },
      "outputs": [],
      "source": [
        "core = ov.Core()\n",
        "devices = core.available_devices\n",
        "dummy_input = ...\n",
        "CIFAR_int8_ir = ov.convert_model( ... )\n",
        "ov.save_model( ... )"
      ]
    },
    {
      "cell_type": "code",
      "execution_count": null,
      "metadata": {
        "id": "aS9CujUULnz0"
      },
      "outputs": [],
      "source": [
        "!ls -lh ..."
      ]
    },
    {
      "cell_type": "markdown",
      "metadata": {
        "id": "cbvVrwcCbZH_"
      },
      "source": [
        "Finally - compile models, validate and benchmark them.\n",
        "\n",
        "Did accuracy decreased?\n",
        "Is INT8 model faster?"
      ]
    },
    {
      "cell_type": "code",
      "execution_count": null,
      "metadata": {
        "id": "R1gbA8jbLidw"
      },
      "outputs": [],
      "source": [
        "fp32_cifar_compiled_model = core.compile_model( ... )\n",
        "int8_cifar_compiled_model = core.compile_model( ... )\n",
        "acc1 = validate( ... )\n",
        "print( ... )\n",
        "acc2 = validate( ... )\n",
        "print( ... )"
      ]
    },
    {
      "cell_type": "code",
      "execution_count": null,
      "metadata": {
        "id": "8pmPBzNrbm7r"
      },
      "outputs": [],
      "source": [
        "def parse_benchmark_output(benchmark_output: str):\n",
        "    \"\"\"Prints the output from benchmark_app in human-readable format\"\"\"\n",
        "    parsed_output = [line for line in benchmark_output if 'FPS' in line]\n",
        "    print(*parsed_output, sep='\\n')\n",
        "\n",
        "\n",
        "print('Benchmark FP32 model on CPU')\n",
        "benchmark_output = ! benchmark_app -m CIFAR_fp32_ir.xml -d CPU -api async -t 15 -shape \"[1, 3, 32, 32]\"\n",
        "parse_benchmark_output(benchmark_output)\n",
        "\n",
        "print('Benchmark INT8 model on CPU')\n",
        "benchmark_output = ! benchmark_app -m CIFAR_int8_ir.xml -d CPU -api async -t 15 -shape \"[1, 3, 32, 32]\"\n",
        "parse_benchmark_output(benchmark_output)"
      ]
    },
    {
      "cell_type": "markdown",
      "metadata": {
        "id": "Wku_Ng6WcDdI"
      },
      "source": [
        "**EXTENSION EXERCISE**\n",
        "\n",
        "Compare PTQ and QAT. Create CNN model and:\n",
        "- train it for 20 epochs and save as `CNN_long.pth`\n",
        "- train it for 15 epochs and save as `CNN_short.pth`\n",
        "\n",
        "Then, apply PTQ on `CNN_long.pth` model and QAT (for 5 epochs) on `CNN_short.pth`. Compare the resulting models (in terms of accuracy, size and FPS)."
      ]
    },
    {
      "cell_type": "code",
      "execution_count": null,
      "metadata": {
        "id": "rY_MYT8GFR-u"
      },
      "outputs": [],
      "source": []
    }
  ],
  "metadata": {
    "accelerator": "GPU",
    "colab": {
      "gpuType": "T4",
      "provenance": []
    },
    "kernelspec": {
      "display_name": "Python 3 (ipykernel)",
      "language": "python",
      "name": "python3"
    },
    "language_info": {
      "codemirror_mode": {
        "name": "ipython",
        "version": 3
      },
      "file_extension": ".py",
      "mimetype": "text/x-python",
      "name": "python",
      "nbconvert_exporter": "python",
      "pygments_lexer": "ipython3",
      "version": "3.11.6"
    }
  },
  "nbformat": 4,
  "nbformat_minor": 0
}
