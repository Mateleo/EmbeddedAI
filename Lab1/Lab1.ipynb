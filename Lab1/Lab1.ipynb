{
 "cells": [
  {
   "cell_type": "markdown",
   "metadata": {
    "id": "1DR8sOyGVouN"
   },
   "source": [
    "# Introduction to PyTorch\n",
    "\n",
    "This tutorial shows the basics of PyTorch library.\n",
    "\n",
    "We design simple Neural Networks for classification task on MNIST dataset.\n",
    "\n",
    "You're probably going to need PyTorch documentation:\n",
    "\n",
    "https://pytorch.org/docs/stable/index.html\n",
    "\n",
    "and tutorials:\n",
    "\n",
    "https://pytorch.org/tutorials/beginner/basics/quickstart_tutorial.html"
   ]
  },
  {
   "cell_type": "code",
   "execution_count": 1,
   "metadata": {
    "id": "E5QMPFndVouV"
   },
   "outputs": [
    {
     "name": "stderr",
     "output_type": "stream",
     "text": [
      "Un sous-r�pertoire ou un fichier data existe d�j�.\n"
     ]
    }
   ],
   "source": [
    "!mkdir data"
   ]
  },
  {
   "cell_type": "markdown",
   "metadata": {
    "id": "h-ki0qvmVouY"
   },
   "source": [
    "1. PyTorch is based on tensor operations. First' let's try using them:\n",
    "- create simple python list with four values and convert it to PyTorch tensor\n",
    "- create numpy array with random values and shape (1,3,7,7) and convert it to Pytorch tensor\n",
    "- create PyTorch tensor with random values and shape (1,3,7,7) with preset seed\n",
    "- create PyTorch tensor with linear space in range from -5 to 15 and reshape it to tensor with shape (1,3,7,7)\n",
    "- create PyTorch tensor of zeros with shape (1,3,7,7)\n",
    "\n",
    "For display use `print` function."
   ]
  },
  {
   "cell_type": "code",
   "execution_count": 2,
   "metadata": {},
   "outputs": [],
   "source": [
    "import torch\n",
    "import numpy as np"
   ]
  },
  {
   "cell_type": "code",
   "execution_count": 3,
   "metadata": {
    "id": "EfXwC4GtVouZ"
   },
   "outputs": [
    {
     "data": {
      "text/plain": [
       "tensor([1., 2., 3., 4.])"
      ]
     },
     "execution_count": 3,
     "metadata": {},
     "output_type": "execute_result"
    }
   ],
   "source": [
    "a = [1, 2, 3, 4]\n",
    "b = torch.FloatTensor(a)\n",
    "b"
   ]
  },
  {
   "cell_type": "code",
   "execution_count": 4,
   "metadata": {},
   "outputs": [
    {
     "data": {
      "text/plain": [
       "tensor([[[[0.6529, 0.9507, 0.2763, 0.9035, 0.0837, 0.4798, 0.6220],\n",
       "          [0.5482, 0.7613, 0.3066, 0.8341, 0.3060, 0.6441, 0.9131],\n",
       "          [0.1398, 0.6920, 0.5324, 0.3000, 0.0508, 0.3421, 0.6255],\n",
       "          [0.7289, 0.3862, 0.4491, 0.3098, 0.0734, 0.3248, 0.0711],\n",
       "          [0.2342, 0.1957, 0.8362, 0.4188, 0.8095, 0.7254, 0.0909],\n",
       "          [0.4734, 0.0832, 0.0194, 0.5562, 0.2071, 0.6831, 0.0837],\n",
       "          [0.8828, 0.4989, 0.2047, 0.4042, 0.8747, 0.0886, 0.3061]],\n",
       "\n",
       "         [[0.0447, 0.4094, 0.1612, 0.4621, 0.1354, 0.8939, 0.3815],\n",
       "          [0.4827, 0.6554, 0.2310, 0.2783, 0.3477, 0.2578, 0.1956],\n",
       "          [0.1777, 0.1990, 0.1068, 0.2946, 0.1176, 0.7786, 0.4693],\n",
       "          [0.2778, 0.1153, 0.5518, 0.2623, 0.1464, 0.1318, 0.5469],\n",
       "          [0.3049, 0.3677, 0.2512, 0.3578, 0.4427, 0.7819, 0.6684],\n",
       "          [0.8714, 0.6838, 0.0755, 0.2161, 0.1088, 0.2704, 0.6423],\n",
       "          [0.6527, 0.1370, 0.2086, 0.6813, 0.2430, 0.3700, 0.4705]],\n",
       "\n",
       "         [[0.7532, 0.2518, 0.1726, 0.6830, 0.3742, 0.1528, 0.5647],\n",
       "          [0.5621, 0.7012, 0.1718, 0.5997, 0.6319, 0.9628, 0.7349],\n",
       "          [0.4272, 0.2991, 0.0347, 0.7950, 0.1585, 0.1102, 0.3228],\n",
       "          [0.0400, 0.9644, 0.9655, 0.9370, 0.9448, 0.3875, 0.3538],\n",
       "          [0.9982, 0.3414, 0.9662, 0.2409, 0.1480, 0.0344, 0.8463],\n",
       "          [0.5871, 0.7825, 0.2550, 0.0654, 0.7135, 0.7092, 0.8249],\n",
       "          [0.3579, 0.8275, 0.2046, 0.4632, 0.1844, 0.9969, 0.4894]]]])"
      ]
     },
     "execution_count": 4,
     "metadata": {},
     "output_type": "execute_result"
    }
   ],
   "source": [
    "# Create a NumPy array with random values\n",
    "numpy_array = np.random.rand(1, 3, 7, 7)\n",
    "pytorch_tensor = torch.FloatTensor(numpy_array)\n",
    "pytorch_tensor"
   ]
  },
  {
   "cell_type": "code",
   "execution_count": 5,
   "metadata": {},
   "outputs": [
    {
     "data": {
      "text/plain": [
       "tensor([[[[0.8823, 0.9150, 0.3829, 0.9593, 0.3904, 0.6009, 0.2566],\n",
       "          [0.7936, 0.9408, 0.1332, 0.9346, 0.5936, 0.8694, 0.5677],\n",
       "          [0.7411, 0.4294, 0.8854, 0.5739, 0.2666, 0.6274, 0.2696],\n",
       "          [0.4414, 0.2969, 0.8317, 0.1053, 0.2695, 0.3588, 0.1994],\n",
       "          [0.5472, 0.0062, 0.9516, 0.0753, 0.8860, 0.5832, 0.3376],\n",
       "          [0.8090, 0.5779, 0.9040, 0.5547, 0.3423, 0.6343, 0.3644],\n",
       "          [0.7104, 0.9464, 0.7890, 0.2814, 0.7886, 0.5895, 0.7539]],\n",
       "\n",
       "         [[0.1952, 0.0050, 0.3068, 0.1165, 0.9103, 0.6440, 0.7071],\n",
       "          [0.6581, 0.4913, 0.8913, 0.1447, 0.5315, 0.1587, 0.6542],\n",
       "          [0.3278, 0.6532, 0.3958, 0.9147, 0.2036, 0.2018, 0.2018],\n",
       "          [0.9497, 0.6666, 0.9811, 0.0874, 0.0041, 0.1088, 0.1637],\n",
       "          [0.7025, 0.6790, 0.9155, 0.2418, 0.1591, 0.7653, 0.2979],\n",
       "          [0.8035, 0.3813, 0.7860, 0.1115, 0.2477, 0.6524, 0.6057],\n",
       "          [0.3725, 0.7980, 0.8399, 0.1374, 0.2331, 0.9578, 0.3313]],\n",
       "\n",
       "         [[0.3227, 0.0162, 0.2137, 0.6249, 0.4340, 0.1371, 0.5117],\n",
       "          [0.1585, 0.0758, 0.2247, 0.0624, 0.1816, 0.9998, 0.5944],\n",
       "          [0.6541, 0.0337, 0.1716, 0.3336, 0.5782, 0.0600, 0.2846],\n",
       "          [0.2007, 0.5014, 0.3139, 0.4654, 0.1612, 0.1568, 0.2083],\n",
       "          [0.3289, 0.1054, 0.9192, 0.4008, 0.9302, 0.6558, 0.0766],\n",
       "          [0.8460, 0.3624, 0.3083, 0.0850, 0.0029, 0.6431, 0.3908],\n",
       "          [0.6947, 0.0897, 0.8712, 0.1330, 0.4137, 0.6044, 0.7581]]]])"
      ]
     },
     "execution_count": 5,
     "metadata": {},
     "output_type": "execute_result"
    }
   ],
   "source": [
    "torch.manual_seed(42)\n",
    "pytorch_tensor = torch.rand(1, 3, 7, 7)\n",
    "pytorch_tensor"
   ]
  },
  {
   "cell_type": "code",
   "execution_count": 6,
   "metadata": {},
   "outputs": [
    {
     "data": {
      "text/plain": [
       "tensor([[[[-5.0000, -4.8630, -4.7260, -4.5890, -4.4521, -4.3151, -4.1781],\n",
       "          [-4.0411, -3.9041, -3.7671, -3.6301, -3.4932, -3.3562, -3.2192],\n",
       "          [-3.0822, -2.9452, -2.8082, -2.6712, -2.5342, -2.3973, -2.2603],\n",
       "          [-2.1233, -1.9863, -1.8493, -1.7123, -1.5753, -1.4384, -1.3014],\n",
       "          [-1.1644, -1.0274, -0.8904, -0.7534, -0.6164, -0.4795, -0.3425],\n",
       "          [-0.2055, -0.0685,  0.0685,  0.2055,  0.3425,  0.4795,  0.6164],\n",
       "          [ 0.7534,  0.8904,  1.0274,  1.1644,  1.3014,  1.4384,  1.5753]],\n",
       "\n",
       "         [[ 1.7123,  1.8493,  1.9863,  2.1233,  2.2603,  2.3973,  2.5342],\n",
       "          [ 2.6712,  2.8082,  2.9452,  3.0822,  3.2192,  3.3562,  3.4932],\n",
       "          [ 3.6301,  3.7671,  3.9041,  4.0411,  4.1781,  4.3151,  4.4521],\n",
       "          [ 4.5890,  4.7260,  4.8630,  5.0000,  5.1370,  5.2740,  5.4110],\n",
       "          [ 5.5479,  5.6849,  5.8219,  5.9589,  6.0959,  6.2329,  6.3699],\n",
       "          [ 6.5068,  6.6438,  6.7808,  6.9178,  7.0548,  7.1918,  7.3288],\n",
       "          [ 7.4658,  7.6027,  7.7397,  7.8767,  8.0137,  8.1507,  8.2877]],\n",
       "\n",
       "         [[ 8.4247,  8.5616,  8.6986,  8.8356,  8.9726,  9.1096,  9.2466],\n",
       "          [ 9.3836,  9.5205,  9.6575,  9.7945,  9.9315, 10.0685, 10.2055],\n",
       "          [10.3425, 10.4795, 10.6164, 10.7534, 10.8904, 11.0274, 11.1644],\n",
       "          [11.3014, 11.4384, 11.5753, 11.7123, 11.8493, 11.9863, 12.1233],\n",
       "          [12.2603, 12.3973, 12.5342, 12.6712, 12.8082, 12.9452, 13.0822],\n",
       "          [13.2192, 13.3562, 13.4932, 13.6301, 13.7671, 13.9041, 14.0411],\n",
       "          [14.1781, 14.3151, 14.4521, 14.5890, 14.7260, 14.8630, 15.0000]]]])"
      ]
     },
     "execution_count": 6,
     "metadata": {},
     "output_type": "execute_result"
    }
   ],
   "source": [
    "start = -5\n",
    "end = 15\n",
    "num_points = 1 * 3 * 7 * 7\n",
    "linear_space = torch.linspace(start, end, num_points)\n",
    "\n",
    "desired_shape = (1, 3, 7, 7)\n",
    "pytorch_tensor = linear_space.view(desired_shape)\n",
    "\n",
    "pytorch_tensor"
   ]
  },
  {
   "cell_type": "code",
   "execution_count": 7,
   "metadata": {},
   "outputs": [
    {
     "data": {
      "text/plain": [
       "tensor([[[[0., 0., 0., 0., 0., 0., 0.],\n",
       "          [0., 0., 0., 0., 0., 0., 0.],\n",
       "          [0., 0., 0., 0., 0., 0., 0.],\n",
       "          [0., 0., 0., 0., 0., 0., 0.],\n",
       "          [0., 0., 0., 0., 0., 0., 0.],\n",
       "          [0., 0., 0., 0., 0., 0., 0.],\n",
       "          [0., 0., 0., 0., 0., 0., 0.]],\n",
       "\n",
       "         [[0., 0., 0., 0., 0., 0., 0.],\n",
       "          [0., 0., 0., 0., 0., 0., 0.],\n",
       "          [0., 0., 0., 0., 0., 0., 0.],\n",
       "          [0., 0., 0., 0., 0., 0., 0.],\n",
       "          [0., 0., 0., 0., 0., 0., 0.],\n",
       "          [0., 0., 0., 0., 0., 0., 0.],\n",
       "          [0., 0., 0., 0., 0., 0., 0.]],\n",
       "\n",
       "         [[0., 0., 0., 0., 0., 0., 0.],\n",
       "          [0., 0., 0., 0., 0., 0., 0.],\n",
       "          [0., 0., 0., 0., 0., 0., 0.],\n",
       "          [0., 0., 0., 0., 0., 0., 0.],\n",
       "          [0., 0., 0., 0., 0., 0., 0.],\n",
       "          [0., 0., 0., 0., 0., 0., 0.],\n",
       "          [0., 0., 0., 0., 0., 0., 0.]]]])"
      ]
     },
     "execution_count": 7,
     "metadata": {},
     "output_type": "execute_result"
    }
   ],
   "source": [
    "shape = (1, 3, 7, 7)\n",
    "zeros_tensor = torch.zeros(shape)\n",
    "\n",
    "zeros_tensor\n"
   ]
  },
  {
   "cell_type": "markdown",
   "metadata": {
    "id": "oY1ommaFVoua"
   },
   "source": [
    "2. PyTorch allow for applying GPU for computations.\n",
    "Check is gpu (CUDA) is available, then use it as `device`, else use `'cpu'`. Then, move one of your tensors to selected device."
   ]
  },
  {
   "cell_type": "code",
   "execution_count": 8,
   "metadata": {
    "id": "CW8eqehrVoub"
   },
   "outputs": [
    {
     "data": {
      "text/plain": [
       "device(type='cuda')"
      ]
     },
     "execution_count": 8,
     "metadata": {},
     "output_type": "execute_result"
    }
   ],
   "source": [
    "cuda = torch.cuda.is_available()\n",
    "cuda\n",
    "device = torch.device('cuda')\n",
    "device"
   ]
  },
  {
   "cell_type": "markdown",
   "metadata": {
    "id": "GB0dnOCgVouc"
   },
   "source": [
    "3. To train a networks we need a dataset.\n",
    "\n",
    "Please download `MINIST` dataset with `torchvision.dataset`.\n",
    "\n",
    "For any kind of ML task, validation or testing is required.\n",
    "\n",
    "So, create train and test datasets.\n",
    "\n",
    "For train dataset apply also augmentation transforms, crop, translation and rotation.\n",
    "\n",
    "For both apply ToTensor.\n",
    "\n",
    "Next, pack datasets into `DataLoader`s with batch size of 64.\n",
    "Use variables with names: `train_loader` and `test_loader`.\n",
    "\n",
    "Next display sizes of datasets, shapes of elements and display few images and their labels.\n",
    "\n",
    "Finally, compare the number of object in each class in both datasets."
   ]
  },
  {
   "cell_type": "code",
   "execution_count": 9,
   "metadata": {
    "id": "7_2cG06JVoud",
    "outputId": "58aa6b7a-62d2-4f85-ca20-a91e96633744"
   },
   "outputs": [
    {
     "name": "stdout",
     "output_type": "stream",
     "text": [
      "Train dataset size: 60000\n",
      "Test dataset size: 10000\n",
      "Shape of data in train_loader: torch.Size([64, 1, 28, 28])\n",
      "Shape of labels in train_loader: torch.Size([64])\n"
     ]
    },
    {
     "data": {
      "image/png": "[encoded data removed]",
      "text/plain": [
       "<Figure size 640x480 with 5 Axes>"
      ]
     },
     "metadata": {},
     "output_type": "display_data"
    },
    {
     "name": "stdout",
     "output_type": "stream",
     "text": [
      "Train dataset class distribution:\n",
      "Counter({1: 6742, 7: 6265, 3: 6131, 2: 5958, 9: 5949, 0: 5923, 6: 5918, 8: 5851, 4: 5842, 5: 5421})\n",
      "Test dataset class distribution:\n",
      "Counter({1: 1135, 2: 1032, 7: 1028, 3: 1010, 9: 1009, 4: 982, 0: 980, 8: 974, 6: 958, 5: 892})\n"
     ]
    }
   ],
   "source": [
    "import torchvision\n",
    "import torchvision.transforms as transforms\n",
    "from torch.utils.data import DataLoader\n",
    "\n",
    "# Define the transformations\n",
    "train_transform = transforms.Compose([\n",
    "    transforms.RandomRotation(10),  # Random rotation up to 10 degrees\n",
    "    transforms.RandomCrop(28, padding=4),  # Random crop with padding\n",
    "    transforms.RandomAffine(degrees=0, translate=(0.1, 0.1)),  # Random translation\n",
    "    transforms.ToTensor()  # Convert to a PyTorch tensor\n",
    "])\n",
    "\n",
    "test_transform = transforms.Compose([\n",
    "    transforms.ToTensor()\n",
    "])\n",
    "\n",
    "train_dataset = torchvision.datasets.MNIST(root='./data', train=True, transform=train_transform, download=True)\n",
    "test_dataset = torchvision.datasets.MNIST(root='./data', train=False, transform=test_transform, download=True)\n",
    "\n",
    "batch_size = 64\n",
    "train_loader = DataLoader(train_dataset, batch_size=batch_size, shuffle=True)\n",
    "test_loader = DataLoader(test_dataset, batch_size=batch_size, shuffle=False)\n",
    "\n",
    "print(f\"Train dataset size: {len(train_dataset)}\")\n",
    "print(f\"Test dataset size: {len(test_dataset)}\")\n",
    "\n",
    "data, label = next(iter(train_loader))\n",
    "print(f\"Shape of data in train_loader: {data.shape}\")\n",
    "print(f\"Shape of labels in train_loader: {label.shape}\")\n",
    "\n",
    "import matplotlib.pyplot as plt\n",
    "\n",
    "for i in range(5):\n",
    "    image, label = train_dataset[i]\n",
    "    plt.subplot(1, 5, i + 1)\n",
    "    plt.imshow(image.squeeze(), cmap='gray')\n",
    "    plt.title(f\"Label: {label}\")\n",
    "\n",
    "plt.show()\n",
    "\n",
    "from collections import Counter\n",
    "\n",
    "train_class_distribution = Counter(train_dataset.targets.numpy())\n",
    "test_class_distribution = Counter(test_dataset.targets.numpy())\n",
    "\n",
    "print(\"Train dataset class distribution:\")\n",
    "print(train_class_distribution)\n",
    "\n",
    "print(\"Test dataset class distribution:\")\n",
    "print(test_class_distribution)"
   ]
  },
  {
   "cell_type": "markdown",
   "metadata": {
    "id": "Zy1hfJ2eVouh"
   },
   "source": [
    "5. We have our dataset ready, lets create model for classification task.\n",
    "\n",
    "Please, define class `MLP` as Multi Layer Perceptron with two hidden fully connected layers with bias.\n",
    "\n",
    "Class must inherits from `torch.nn.Module`.\n",
    "\n",
    "Apply following configuration:\n",
    "\n",
    "- first layer with 512 neurons,\n",
    "- second layer with 512 neurons,\n",
    "- output layer adjust to size of classification problem.\n",
    "\n",
    "For `__init__` method add parameters: input_shape and output_size.\n",
    "\n",
    "Don't forget about nonlinearities!\n",
    "\n",
    "For hidden layers you can use `ReLU` module from `torch.nn`.\n",
    "\n",
    "For output apply softmax function.\n",
    "\n",
    "Network layer-by-layer processing define in `forward` method with argument as a network\n",
    "\n",
    "input tensor - batch of images with shape (batch_size, channels, height, width).\n",
    "(channels = 1, for gray scale images)\n",
    "\n",
    "Instantiate model as `net` object.\n",
    "\n",
    "Layers:\n",
    "- `torch.nn.Sequential`\n",
    "    - layer allows for forward pass through\n",
    "        component layers:\n",
    "        ```\n",
    "        t_in: Tensor\n",
    "        t_out: Tensor = t_in\n",
    "        for L in layers:\n",
    "            t_out = L(t_out)\n",
    "        return t_out```\n",
    "        \n",
    "- `torch.nn.Flatten`\n",
    "    - layer makes input tensor flattened:\n",
    "    - (bs,CH,H,W) - > (bs,CH*H*W)\n",
    "    \n",
    "- `torch.nn.Linear(ch_in, ch_out, bias)`\n",
    "    - 'classical' neural network layer - fully connected\n",
    "    - ch_in is a number of input channels\n",
    "    - ch_out is number of output channels / number of neurons in layer\n",
    "    - bias - whether to use bias parameter\n",
    "    - for Linear layers it is recommended to use flatten layer before,\n",
    "            when input has more than 2 dimensions\n",
    "    - operation implemented by this layer is a vector / matrix multiplication\n",
    "        - `y = W x v` or `y = W x v + b`\n",
    "        - W has a shape [ch_out, ch_in]\n",
    "        - v has a shape [ch_in]\n",
    "        - b has a shape [ch_in]\n",
    "        - y has a shape [ch_out]\n",
    "\n",
    "- `torch.nn.ReLU`\n",
    "    - layer applies ReLU function on input tensor\n",
    "    \n",
    "- `torch.nn.Softmax(dim)`\n",
    "    - layer applies softmax function on input tensor\n",
    "    - `dim` - dimension over which function is calculated\n",
    "\n",
    "\n",
    "For the formulas of activation function go to [torch documentation](https://pytorch.org/docs/stable/index.html)"
   ]
  },
  {
   "cell_type": "code",
   "execution_count": null,
   "metadata": {},
   "outputs": [],
   "source": []
  },
  {
   "cell_type": "code",
   "execution_count": 10,
   "metadata": {
    "id": "BA0BxD7VVoui"
   },
   "outputs": [],
   "source": [
    "import torch.nn as nn\n",
    "\n",
    "class MLP(nn.Module):\n",
    "    def __init__(self, input_shape, output_size):\n",
    "        super(MLP, self).__init__()\n",
    "        \n",
    "        # Define the layers\n",
    "        self.layers = nn.Sequential(\n",
    "            nn.Flatten(),          # Flatten the input\n",
    "            nn.Linear(input_shape, 512),  # First hidden layer with 512 neurons\n",
    "            nn.ReLU(),             # ReLU activation function\n",
    "            nn.Linear(512, 512),    # Second hidden layer with 512 neurons\n",
    "            nn.ReLU(),             # ReLU activation function\n",
    "            nn.Linear(512, output_size)  # Output layer (adjust to the classification problem)\n",
    "        )\n",
    "        self.softmax = nn.Softmax(dim=1)  # Apply softmax to the output\n",
    "\n",
    "    def forward(self, x):\n",
    "        # Pass the input tensor through the layers\n",
    "        x = self.layers(x)\n",
    "        # Apply softmax to the output\n",
    "        x = self.softmax(x)\n",
    "        return x\n",
    "\n",
    "# Instantiate the MLP model\n",
    "input_shape = 1 * 28 * 28  # Assuming 28x28 images with 1 channel\n",
    "output_size = 10  # Adjust the output size for your specific classification problem\n",
    "net = MLP(input_shape, output_size)\n",
    "net = net.to(device)\n"
   ]
  },
  {
   "cell_type": "markdown",
   "metadata": {
    "id": "xX8LT108Vouj"
   },
   "source": [
    "6. To train network we need to know 'how good or bad' results it gives.\n",
    "Please, instantiate `torch.nn.CrossEntropyLoss` as `loss_fcn`."
   ]
  },
  {
   "cell_type": "code",
   "execution_count": 11,
   "metadata": {
    "id": "gJ35yqAKVouj"
   },
   "outputs": [],
   "source": [
    "loss_fcn = nn.CrossEntropyLoss()\n"
   ]
  },
  {
   "cell_type": "markdown",
   "metadata": {
    "id": "e89_zcP_Vouj"
   },
   "source": [
    "7. To score network define accuracy metric.\n",
    "For network output you need to decide what is the final network answer. For clasification we can assume, that the final answer is the class with highest probability (`argmax`).\n",
    "\n",
    "`torch.no_grad()` prevents gradient requirement for computations inside method."
   ]
  },
  {
   "cell_type": "code",
   "execution_count": 12,
   "metadata": {
    "id": "E8G76LxcVouk"
   },
   "outputs": [],
   "source": [
    "from abc import ABC, abstractmethod\n",
    "from typing import Any\n",
    "\n",
    "\n",
    "class BaseMetic(ABC):\n",
    "\n",
    "    @abstractmethod\n",
    "    def __call__(self, y_pred, y_ref) -> Any:\n",
    "        raise NotImplementedError()\n",
    "\n",
    "\n",
    "\n",
    "class AccuracyMetic(BaseMetic):\n",
    "\n",
    "    def __init__(self) -> None:\n",
    "        pass\n",
    "\n",
    "    @torch.no_grad()\n",
    "    def __call__(self, y_pred: torch.Tensor, y_ref: torch.Tensor) -> torch.Tensor:\n",
    "        \"\"\"\n",
    "        :param y_pred: tensor of shape (batch_size, num_of_classes) type float\n",
    "        :param y_ref: tensor with shape (batch_size,) and type Long\n",
    "        :return: scalar tensor with accuracy metric for batch\n",
    "        \"\"\"\n",
    "        # Get the predicted class (index with the highest probability) for each sample\n",
    "        predicted_classes = y_pred.argmax(dim=1)\n",
    "\n",
    "        # Compare the predicted classes to the reference labels\n",
    "        correct_predictions = (predicted_classes == y_ref).sum().item()\n",
    "\n",
    "        # Calculate the accuracy\n",
    "        accuracy = correct_predictions / y_ref.size(0)  # Divide by the batch size\n",
    "\n",
    "        return torch.tensor(accuracy)\n",
    "\n",
    "metric = AccuracyMetic()\n"
   ]
  },
  {
   "cell_type": "markdown",
   "metadata": {
    "id": "vzGWdKhNVouk"
   },
   "source": [
    "8. To change network parameters, we need optimizers object.\n",
    "Instantiate `torch.optim.SGD` (with `net`work parameters) as `optimizer`.\n",
    "Use learning rate = 0.001"
   ]
  },
  {
   "cell_type": "code",
   "execution_count": 13,
   "metadata": {
    "id": "snItwusOVoul"
   },
   "outputs": [],
   "source": [
    "import torch.optim as optim\n",
    "\n",
    "learning_rate = 0.001\n",
    "\n",
    "optimizer = optim.SGD(net.parameters(), lr=learning_rate)"
   ]
  },
  {
   "cell_type": "markdown",
   "metadata": {
    "id": "pXL9hO0nVoul"
   },
   "source": [
    "9. Now define training / testing function:"
   ]
  },
  {
   "cell_type": "markdown",
   "metadata": {
    "id": "hkIVA8O7Voum"
   },
   "source": [
    "10. Prepare training loop (over epochs) function:\n",
    "- adjust max number of epochs to achieve satisfactory results.\n",
    "- `**` additionally, implement stopping training when accuracy ."
   ]
  },
  {
   "cell_type": "code",
   "execution_count": 14,
   "metadata": {
    "id": "By_N80A3Voun"
   },
   "outputs": [],
   "source": [
    "from typing import Tuple\n",
    "import tqdm\n",
    "import torch\n",
    "\n",
    "def train_or_test(model, data_generator, criterion, metric, mode='test', optimizer=None, update_period=None, device=torch.device('cpu')) -> Tuple[torch.nn.Module, float, float]:\n",
    "    # Change model mode to train or test\n",
    "    if mode == 'train':\n",
    "        model.train()\n",
    "    elif mode == 'test':\n",
    "        model.eval()\n",
    "    else:\n",
    "        raise RuntimeError(\"Unsupported mode.\")\n",
    "\n",
    "    # Move model to the specified device\n",
    "    model.to(device)\n",
    "\n",
    "    total_loss = 0.0\n",
    "    total_accuracy = 0.0\n",
    "    samples_num = 0\n",
    "\n",
    "    for i, (X, y) in tqdm.tqdm(enumerate(data_generator)):\n",
    "        # Convert tensors to the specified device\n",
    "        X, y = X.to(device), y.to(device)\n",
    "\n",
    "        # Process input data through the network\n",
    "        y_pred = model(X)\n",
    "\n",
    "        # Calculate loss\n",
    "        loss = criterion(y_pred, y)\n",
    "\n",
    "        # Reset gradients and perform backpropagation if in training mode\n",
    "        if mode == 'train':\n",
    "            optimizer.zero_grad()\n",
    "            loss.backward()\n",
    "            optimizer.step()\n",
    "\n",
    "        # Calculate accuracy\n",
    "        accuracy = metric(y_pred, y)\n",
    "\n",
    "        total_loss += loss.item() * y_pred.size(0)\n",
    "        total_accuracy += accuracy.item() * y_pred.size(0)\n",
    "        samples_num += y_pred.size(0)\n",
    "\n",
    "    if samples_num == 0:\n",
    "        return model, 0.0, 0.0\n",
    "\n",
    "    return model, total_loss / samples_num, total_accuracy / samples_num\n"
   ]
  },
  {
   "cell_type": "markdown",
   "metadata": {
    "id": "6UjpPqYIVoun"
   },
   "source": [
    "11. Display training history."
   ]
  },
  {
   "cell_type": "code",
   "execution_count": 15,
   "metadata": {
    "id": "H49386vobZUj"
   },
   "outputs": [
    {
     "name": "stderr",
     "output_type": "stream",
     "text": [
      "938it [00:31, 29.91it/s]\n",
      "157it [00:01, 84.78it/s]\n"
     ]
    },
    {
     "name": "stdout",
     "output_type": "stream",
     "text": [
      "Epoch 1/10:\n",
      "  Train Loss: 2.3025  Train Accuracy: 0.0969\n",
      "  Test Loss: 2.3021  Test Accuracy: 0.0878\n"
     ]
    },
    {
     "name": "stderr",
     "output_type": "stream",
     "text": [
      "43it [00:01, 31.33it/s]\n"
     ]
    },
    {
     "ename": "KeyboardInterrupt",
     "evalue": "",
     "output_type": "error",
     "traceback": [
      "\u001b[1;31m---------------------------------------------------------------------------\u001b[0m",
      "\u001b[1;31mKeyboardInterrupt\u001b[0m                         Traceback (most recent call last)",
      "\u001b[1;32mc:\\Informatique\\EmbeddedAI\\Lab1\\Lab1.ipynb Cell 27\u001b[0m line \u001b[0;36m4\n\u001b[0;32m     <a href='vscode-notebook-cell:/c%3A/Informatique/EmbeddedAI/Lab1/Lab1.ipynb#X35sZmlsZQ%3D%3D?line=45'>46</a>\u001b[0m \u001b[39m# Example usage:\u001b[39;00m\n\u001b[0;32m     <a href='vscode-notebook-cell:/c%3A/Informatique/EmbeddedAI/Lab1/Lab1.ipynb#X35sZmlsZQ%3D%3D?line=46'>47</a>\u001b[0m num_epochs \u001b[39m=\u001b[39m \u001b[39m10\u001b[39m\n\u001b[1;32m---> <a href='vscode-notebook-cell:/c%3A/Informatique/EmbeddedAI/Lab1/Lab1.ipynb#X35sZmlsZQ%3D%3D?line=47'>48</a>\u001b[0m train_and_display(net, train_loader, test_loader, loss_fcn, metric, optimizer, device, num_epochs)\n",
      "\u001b[1;32mc:\\Informatique\\EmbeddedAI\\Lab1\\Lab1.ipynb Cell 27\u001b[0m line \u001b[0;36m1\n\u001b[0;32m      <a href='vscode-notebook-cell:/c%3A/Informatique/EmbeddedAI/Lab1/Lab1.ipynb#X35sZmlsZQ%3D%3D?line=6'>7</a>\u001b[0m test_accuracies \u001b[39m=\u001b[39m []\n\u001b[0;32m      <a href='vscode-notebook-cell:/c%3A/Informatique/EmbeddedAI/Lab1/Lab1.ipynb#X35sZmlsZQ%3D%3D?line=8'>9</a>\u001b[0m \u001b[39mfor\u001b[39;00m epoch \u001b[39min\u001b[39;00m \u001b[39mrange\u001b[39m(num_epochs):\n\u001b[0;32m     <a href='vscode-notebook-cell:/c%3A/Informatique/EmbeddedAI/Lab1/Lab1.ipynb#X35sZmlsZQ%3D%3D?line=9'>10</a>\u001b[0m     \u001b[39m# Training phase\u001b[39;00m\n\u001b[1;32m---> <a href='vscode-notebook-cell:/c%3A/Informatique/EmbeddedAI/Lab1/Lab1.ipynb#X35sZmlsZQ%3D%3D?line=10'>11</a>\u001b[0m     model, train_loss, train_accuracy \u001b[39m=\u001b[39m train_or_test(\n\u001b[0;32m     <a href='vscode-notebook-cell:/c%3A/Informatique/EmbeddedAI/Lab1/Lab1.ipynb#X35sZmlsZQ%3D%3D?line=11'>12</a>\u001b[0m         model, train_loader, criterion, metric, mode\u001b[39m=\u001b[39;49m\u001b[39m'\u001b[39;49m\u001b[39mtrain\u001b[39;49m\u001b[39m'\u001b[39;49m, optimizer\u001b[39m=\u001b[39;49moptimizer, device\u001b[39m=\u001b[39;49mdevice)\n\u001b[0;32m     <a href='vscode-notebook-cell:/c%3A/Informatique/EmbeddedAI/Lab1/Lab1.ipynb#X35sZmlsZQ%3D%3D?line=12'>13</a>\u001b[0m     train_losses\u001b[39m.\u001b[39mappend(train_loss)\n\u001b[0;32m     <a href='vscode-notebook-cell:/c%3A/Informatique/EmbeddedAI/Lab1/Lab1.ipynb#X35sZmlsZQ%3D%3D?line=13'>14</a>\u001b[0m     train_accuracies\u001b[39m.\u001b[39mappend(train_accuracy)\n",
      "\u001b[1;32mc:\\Informatique\\EmbeddedAI\\Lab1\\Lab1.ipynb Cell 27\u001b[0m line \u001b[0;36m2\n\u001b[0;32m     <a href='vscode-notebook-cell:/c%3A/Informatique/EmbeddedAI/Lab1/Lab1.ipynb#X35sZmlsZQ%3D%3D?line=18'>19</a>\u001b[0m samples_num \u001b[39m=\u001b[39m \u001b[39m0\u001b[39m\n\u001b[0;32m     <a href='vscode-notebook-cell:/c%3A/Informatique/EmbeddedAI/Lab1/Lab1.ipynb#X35sZmlsZQ%3D%3D?line=20'>21</a>\u001b[0m \u001b[39mfor\u001b[39;00m i, (X, y) \u001b[39min\u001b[39;00m tqdm\u001b[39m.\u001b[39mtqdm(\u001b[39menumerate\u001b[39m(data_generator)):\n\u001b[0;32m     <a href='vscode-notebook-cell:/c%3A/Informatique/EmbeddedAI/Lab1/Lab1.ipynb#X35sZmlsZQ%3D%3D?line=21'>22</a>\u001b[0m     \u001b[39m# Convert tensors to the specified device\u001b[39;00m\n\u001b[1;32m---> <a href='vscode-notebook-cell:/c%3A/Informatique/EmbeddedAI/Lab1/Lab1.ipynb#X35sZmlsZQ%3D%3D?line=22'>23</a>\u001b[0m     X, y \u001b[39m=\u001b[39m X\u001b[39m.\u001b[39mto(device), y\u001b[39m.\u001b[39;49mto(device)\n\u001b[0;32m     <a href='vscode-notebook-cell:/c%3A/Informatique/EmbeddedAI/Lab1/Lab1.ipynb#X35sZmlsZQ%3D%3D?line=24'>25</a>\u001b[0m     \u001b[39m# Process input data through the network\u001b[39;00m\n\u001b[0;32m     <a href='vscode-notebook-cell:/c%3A/Informatique/EmbeddedAI/Lab1/Lab1.ipynb#X35sZmlsZQ%3D%3D?line=25'>26</a>\u001b[0m     y_pred \u001b[39m=\u001b[39m model(X)\n",
      "\u001b[1;31mKeyboardInterrupt\u001b[0m: "
     ]
    }
   ],
   "source": [
    "import matplotlib.pyplot as plt\n",
    "\n",
    "def train_and_display(model, train_loader, test_loader, criterion, metric, optimizer, device, num_epochs):\n",
    "    train_losses = []\n",
    "    test_losses = []\n",
    "    train_accuracies = []\n",
    "    test_accuracies = []\n",
    "\n",
    "    for epoch in range(num_epochs):\n",
    "        # Training phase\n",
    "        model, train_loss, train_accuracy = train_or_test(\n",
    "            model, train_loader, criterion, metric, mode='train', optimizer=optimizer, device=device)\n",
    "        train_losses.append(train_loss)\n",
    "        train_accuracies.append(train_accuracy)\n",
    "\n",
    "        # Testing phase\n",
    "        model, test_loss, test_accuracy = train_or_test(\n",
    "            model, test_loader, criterion, metric, mode='test', device=device)\n",
    "        test_losses.append(test_loss)\n",
    "        test_accuracies.append(test_accuracy)\n",
    "\n",
    "        print(f\"Epoch {epoch + 1}/{num_epochs}:\")\n",
    "        print(f\"  Train Loss: {train_loss:.4f}  Train Accuracy: {train_accuracy:.4f}\")\n",
    "        print(f\"  Test Loss: {test_loss:.4f}  Test Accuracy: {test_accuracy:.4f}\")\n",
    "\n",
    "    # Plot training history\n",
    "    plt.figure(figsize=(12, 5))\n",
    "    plt.subplot(1, 2, 1)\n",
    "    plt.plot(train_losses, label='Train Loss')\n",
    "    plt.plot(test_losses, label='Test Loss')\n",
    "    plt.xlabel('Epoch')\n",
    "    plt.ylabel('Loss')\n",
    "    plt.legend()\n",
    "    plt.title('Loss History')\n",
    "\n",
    "    plt.subplot(1, 2, 2)\n",
    "    plt.plot(train_accuracies, label='Train Accuracy')\n",
    "    plt.plot(test_accuracies, label='Test Accuracy')\n",
    "    plt.xlabel('Epoch')\n",
    "    plt.ylabel('Accuracy')\n",
    "    plt.legend()\n",
    "    plt.title('Accuracy History')\n",
    "\n",
    "    plt.show()\n",
    "\n",
    "# Example usage:\n",
    "num_epochs = 10\n",
    "train_and_display(net, train_loader, test_loader, loss_fcn, metric, optimizer, device, num_epochs)\n"
   ]
  },
  {
   "cell_type": "markdown",
   "metadata": {
    "id": "rI08yFn8Vouo"
   },
   "source": [
    "12. Save model and optimizer states to files.\n",
    "\n",
    "Use method `state_dict` and function `torch.save`."
   ]
  },
  {
   "cell_type": "code",
   "execution_count": null,
   "metadata": {
    "id": "LmSvHf0gVouo"
   },
   "outputs": [],
   "source": [
    "# Save model state to a file\n",
    "model_state_file = 'model_state.pth'\n",
    "torch.save(net.state_dict(), model_state_file)\n",
    "\n",
    "# Save optimizer state to a file\n",
    "optimizer_state_file = 'optimizer_state.pth'\n",
    "torch.save(optimizer.state_dict(), optimizer_state_file)"
   ]
  },
  {
   "cell_type": "markdown",
   "metadata": {
    "id": "HpFF_fDZVouo"
   },
   "source": [
    "13. Create new network with the same architecture and initialize it with saved weights. Compare evaluations for both networks\n",
    "\n",
    "`torch.load`, `load_state_dict`."
   ]
  },
  {
   "cell_type": "code",
   "execution_count": null,
   "metadata": {
    "id": "Se9FuqrNVoup"
   },
   "outputs": [
    {
     "name": "stderr",
     "output_type": "stream",
     "text": [
      "157it [00:01, 111.14it/s]\n",
      "157it [00:01, 110.24it/s]"
     ]
    },
    {
     "name": "stdout",
     "output_type": "stream",
     "text": [
      "Network 1 - Test Loss: 2.3018, Test Accuracy: 0.0981\n",
      "Network 2 - Test Loss: 2.3018, Test Accuracy: 0.0981\n"
     ]
    },
    {
     "name": "stderr",
     "output_type": "stream",
     "text": [
      "\n"
     ]
    }
   ],
   "source": [
    "# Define the architecture of net2 (same as net)\n",
    "net2 = MLP(input_shape, output_size)\n",
    "\n",
    "# Load the saved model state into net2\n",
    "model_state_file = 'model_state.pth'\n",
    "net2.load_state_dict(torch.load(model_state_file))\n",
    "\n",
    "# Ensure both networks are in evaluation mode\n",
    "net.eval()\n",
    "net2.eval()\n",
    "\n",
    "# Compare evaluations for both networks\n",
    "# You can use the `train_or_test` function defined earlier\n",
    "# with the test_loader, criterion, metric, and device\n",
    "_, test_loss1, test_accuracy1 = train_or_test(net, test_loader, loss_fcn, metric, mode='test', device=device)\n",
    "_, test_loss2, test_accuracy2 = train_or_test(net2, test_loader, loss_fcn, metric, mode='test', device=device)\n",
    "\n",
    "print(f\"Network 1 - Test Loss: {test_loss1:.4f}, Test Accuracy: {test_accuracy1:.4f}\")\n",
    "print(f\"Network 2 - Test Loss: {test_loss2:.4f}, Test Accuracy: {test_accuracy2:.4f}\")\n"
   ]
  },
  {
   "cell_type": "markdown",
   "metadata": {
    "id": "CSZOeaG6Voup"
   },
   "source": [
    "14. Define your own model and train it.\n",
    "\n",
    "Try achieve better results.\n",
    "\n",
    "You can use different parameters, layers e.g.:\n",
    "- conv2d\n",
    "- maxpooling2d\n",
    "- batch norm 2d\n",
    "- and more...\n",
    "\n",
    "Save weights to file."
   ]
  },
  {
   "cell_type": "code",
   "execution_count": null,
   "metadata": {
    "id": "HavZWqHQVoup"
   },
   "outputs": [],
   "source": [
    "class MLP(nn.Module):\n",
    "    def __init__(self, input_shape, output_size):\n",
    "        super(MLP, self).__init__()\n",
    "\n",
    "        # Define the layers\n",
    "        self.layers = nn.Sequential(\n",
    "            nn.Flatten(),  # Flatten the input\n",
    "            nn.Linear(input_shape, 512),  # First hidden layer with 512 neurons\n",
    "            nn.ReLU(),  # ReLU activation function\n",
    "            nn.Linear(512, 256),  # Additional hidden layer with 256 neurons\n",
    "            nn.ReLU(),  # Activation function for the new hidden layer\n",
    "            nn.Linear(256, 512),  # Another hidden layer, if needed\n",
    "            nn.ReLU(),  # Activation function\n",
    "            nn.Linear(512, output_size)\n",
    "        )\n",
    "        self.softmax = nn.Softmax(dim=1)  # Apply softmax to the output\n",
    "\n",
    "    def forward(self, x):\n",
    "        # Pass the input tensor through the layers\n",
    "        x = self.layers(x)\n",
    "        # Apply softmax to the output\n",
    "        x = self.softmax(x)\n",
    "        return x\n",
    "\n",
    "\n",
    "# Instantiate the MLP model\n",
    "input_shape = 1 * 28 * 28  # Assuming 28x28 images with 1 channel\n",
    "output_size = 10  # Adjust the output size for your specific classification problem\n",
    "net3 = MLP(input_shape, output_size)\n",
    "net3 = net3.to(device)"
   ]
  },
  {
   "cell_type": "code",
   "execution_count": null,
   "metadata": {},
   "outputs": [
    {
     "name": "stderr",
     "output_type": "stream",
     "text": [
      "938it [00:49, 19.06it/s]\n",
      "157it [00:01, 106.95it/s]\n"
     ]
    },
    {
     "name": "stdout",
     "output_type": "stream",
     "text": [
      "Epoch 1/10:\n",
      "  Train Loss: 2.3026  Train Accuracy: 0.0875\n",
      "  Test Loss: 2.3026  Test Accuracy: 0.0752\n"
     ]
    },
    {
     "name": "stderr",
     "output_type": "stream",
     "text": [
      "938it [00:38, 24.39it/s]\n",
      "157it [00:01, 100.13it/s]\n"
     ]
    },
    {
     "name": "stdout",
     "output_type": "stream",
     "text": [
      "Epoch 2/10:\n",
      "  Train Loss: 2.3026  Train Accuracy: 0.0877\n",
      "  Test Loss: 2.3026  Test Accuracy: 0.0752\n"
     ]
    },
    {
     "name": "stderr",
     "output_type": "stream",
     "text": [
      "938it [00:41, 22.75it/s]\n",
      "157it [00:01, 104.01it/s]\n"
     ]
    },
    {
     "name": "stdout",
     "output_type": "stream",
     "text": [
      "Epoch 3/10:\n",
      "  Train Loss: 2.3026  Train Accuracy: 0.0880\n",
      "  Test Loss: 2.3026  Test Accuracy: 0.0752\n"
     ]
    },
    {
     "name": "stderr",
     "output_type": "stream",
     "text": [
      "938it [00:25, 36.23it/s]\n",
      "157it [00:01, 105.48it/s]\n"
     ]
    },
    {
     "name": "stdout",
     "output_type": "stream",
     "text": [
      "Epoch 4/10:\n",
      "  Train Loss: 2.3026  Train Accuracy: 0.0873\n",
      "  Test Loss: 2.3026  Test Accuracy: 0.0752\n"
     ]
    },
    {
     "name": "stderr",
     "output_type": "stream",
     "text": [
      "938it [00:25, 36.23it/s]\n",
      "157it [00:01, 117.02it/s]\n"
     ]
    },
    {
     "name": "stdout",
     "output_type": "stream",
     "text": [
      "Epoch 5/10:\n",
      "  Train Loss: 2.3026  Train Accuracy: 0.0890\n",
      "  Test Loss: 2.3026  Test Accuracy: 0.0752\n"
     ]
    },
    {
     "name": "stderr",
     "output_type": "stream",
     "text": [
      "938it [00:26, 35.75it/s]\n",
      "157it [00:01, 109.10it/s]\n"
     ]
    },
    {
     "name": "stdout",
     "output_type": "stream",
     "text": [
      "Epoch 6/10:\n",
      "  Train Loss: 2.3026  Train Accuracy: 0.0882\n",
      "  Test Loss: 2.3026  Test Accuracy: 0.0752\n"
     ]
    },
    {
     "name": "stderr",
     "output_type": "stream",
     "text": [
      "938it [00:25, 37.51it/s]\n",
      "157it [00:01, 107.45it/s]\n"
     ]
    },
    {
     "name": "stdout",
     "output_type": "stream",
     "text": [
      "Epoch 7/10:\n",
      "  Train Loss: 2.3026  Train Accuracy: 0.0888\n",
      "  Test Loss: 2.3026  Test Accuracy: 0.0752\n"
     ]
    },
    {
     "name": "stderr",
     "output_type": "stream",
     "text": [
      "938it [00:25, 36.40it/s]\n",
      "157it [00:01, 96.82it/s] \n"
     ]
    },
    {
     "name": "stdout",
     "output_type": "stream",
     "text": [
      "Epoch 8/10:\n",
      "  Train Loss: 2.3026  Train Accuracy: 0.0874\n",
      "  Test Loss: 2.3026  Test Accuracy: 0.0752\n"
     ]
    },
    {
     "name": "stderr",
     "output_type": "stream",
     "text": [
      "938it [00:25, 37.16it/s]\n",
      "157it [00:01, 111.86it/s]\n"
     ]
    },
    {
     "name": "stdout",
     "output_type": "stream",
     "text": [
      "Epoch 9/10:\n",
      "  Train Loss: 2.3026  Train Accuracy: 0.0884\n",
      "  Test Loss: 2.3026  Test Accuracy: 0.0752\n"
     ]
    },
    {
     "name": "stderr",
     "output_type": "stream",
     "text": [
      "938it [00:24, 38.98it/s]\n",
      "157it [00:01, 113.98it/s]\n"
     ]
    },
    {
     "name": "stdout",
     "output_type": "stream",
     "text": [
      "Epoch 10/10:\n",
      "  Train Loss: 2.3026  Train Accuracy: 0.0878\n",
      "  Test Loss: 2.3026  Test Accuracy: 0.0752\n"
     ]
    },
    {
     "data": {
      "image/png": "[encoded data removed]",
      "text/plain": [
       "<Figure size 1200x500 with 2 Axes>"
      ]
     },
     "metadata": {},
     "output_type": "display_data"
    }
   ],
   "source": [
    "train_and_display(net3, train_loader, test_loader, loss_fcn, metric, optimizer, device, num_epochs)"
   ]
  },
  {
   "cell_type": "code",
   "execution_count": null,
   "metadata": {},
   "outputs": [
    {
     "ename": "AttributeError",
     "evalue": "'super' object has no attribute '_CustomCNN__init'",
     "output_type": "error",
     "traceback": [
      "\u001b[1;31m---------------------------------------------------------------------------\u001b[0m",
      "\u001b[1;31mAttributeError\u001b[0m                            Traceback (most recent call last)",
      "\u001b[1;32mc:\\Informatique\\EmbeddedAI\\Lab1\\Lab1.ipynb Cell 35\u001b[0m line \u001b[0;36m3\n\u001b[0;32m     <a href='vscode-notebook-cell:/c%3A/Informatique/EmbeddedAI/Lab1/Lab1.ipynb#X51sZmlsZQ%3D%3D?line=27'>28</a>\u001b[0m         \u001b[39mreturn\u001b[39;00m x\n\u001b[0;32m     <a href='vscode-notebook-cell:/c%3A/Informatique/EmbeddedAI/Lab1/Lab1.ipynb#X51sZmlsZQ%3D%3D?line=29'>30</a>\u001b[0m \u001b[39m# Instantiate the custom model\u001b[39;00m\n\u001b[1;32m---> <a href='vscode-notebook-cell:/c%3A/Informatique/EmbeddedAI/Lab1/Lab1.ipynb#X51sZmlsZQ%3D%3D?line=30'>31</a>\u001b[0m custom_net \u001b[39m=\u001b[39m CustomCNN(num_classes\u001b[39m=\u001b[39;49m\u001b[39m10\u001b[39;49m)\n\u001b[0;32m     <a href='vscode-notebook-cell:/c%3A/Informatique/EmbeddedAI/Lab1/Lab1.ipynb#X51sZmlsZQ%3D%3D?line=33'>34</a>\u001b[0m \u001b[39m# Define loss and optimizer\u001b[39;00m\n\u001b[0;32m     <a href='vscode-notebook-cell:/c%3A/Informatique/EmbeddedAI/Lab1/Lab1.ipynb#X51sZmlsZQ%3D%3D?line=34'>35</a>\u001b[0m loss_fn \u001b[39m=\u001b[39m nn\u001b[39m.\u001b[39mCrossEntropyLoss()\n",
      "\u001b[1;32mc:\\Informatique\\EmbeddedAI\\Lab1\\Lab1.ipynb Cell 35\u001b[0m line \u001b[0;36m6\n\u001b[0;32m      <a href='vscode-notebook-cell:/c%3A/Informatique/EmbeddedAI/Lab1/Lab1.ipynb#X51sZmlsZQ%3D%3D?line=4'>5</a>\u001b[0m \u001b[39mdef\u001b[39;00m \u001b[39m__init__\u001b[39m(\u001b[39mself\u001b[39m, num_classes):\n\u001b[1;32m----> <a href='vscode-notebook-cell:/c%3A/Informatique/EmbeddedAI/Lab1/Lab1.ipynb#X51sZmlsZQ%3D%3D?line=5'>6</a>\u001b[0m     \u001b[39msuper\u001b[39;49m(CustomCNN, \u001b[39mself\u001b[39;49m)\u001b[39m.\u001b[39;49m__init()\n\u001b[0;32m      <a href='vscode-notebook-cell:/c%3A/Informatique/EmbeddedAI/Lab1/Lab1.ipynb#X51sZmlsZQ%3D%3D?line=6'>7</a>\u001b[0m     \u001b[39mself\u001b[39m\u001b[39m.\u001b[39mfeatures \u001b[39m=\u001b[39m nn\u001b[39m.\u001b[39mSequential(\n\u001b[0;32m      <a href='vscode-notebook-cell:/c%3A/Informatique/EmbeddedAI/Lab1/Lab1.ipynb#X51sZmlsZQ%3D%3D?line=7'>8</a>\u001b[0m         nn\u001b[39m.\u001b[39mConv2d(\u001b[39m1\u001b[39m, \u001b[39m32\u001b[39m, kernel_size\u001b[39m=\u001b[39m\u001b[39m3\u001b[39m, padding\u001b[39m=\u001b[39m\u001b[39m1\u001b[39m),  \u001b[39m# 1 input channel, 32 output channels, 3x3 kernel\u001b[39;00m\n\u001b[0;32m      <a href='vscode-notebook-cell:/c%3A/Informatique/EmbeddedAI/Lab1/Lab1.ipynb#X51sZmlsZQ%3D%3D?line=8'>9</a>\u001b[0m         nn\u001b[39m.\u001b[39mReLU(),\n\u001b[1;32m   (...)\u001b[0m\n\u001b[0;32m     <a href='vscode-notebook-cell:/c%3A/Informatique/EmbeddedAI/Lab1/Lab1.ipynb#X51sZmlsZQ%3D%3D?line=14'>15</a>\u001b[0m         nn\u001b[39m.\u001b[39mBatchNorm2d(\u001b[39m64\u001b[39m)\n\u001b[0;32m     <a href='vscode-notebook-cell:/c%3A/Informatique/EmbeddedAI/Lab1/Lab1.ipynb#X51sZmlsZQ%3D%3D?line=15'>16</a>\u001b[0m     )\n\u001b[0;32m     <a href='vscode-notebook-cell:/c%3A/Informatique/EmbeddedAI/Lab1/Lab1.ipynb#X51sZmlsZQ%3D%3D?line=16'>17</a>\u001b[0m     \u001b[39mself\u001b[39m\u001b[39m.\u001b[39mclassifier \u001b[39m=\u001b[39m nn\u001b[39m.\u001b[39mSequential(\n\u001b[0;32m     <a href='vscode-notebook-cell:/c%3A/Informatique/EmbeddedAI/Lab1/Lab1.ipynb#X51sZmlsZQ%3D%3D?line=17'>18</a>\u001b[0m         nn\u001b[39m.\u001b[39mLinear(\u001b[39m64\u001b[39m \u001b[39m*\u001b[39m \u001b[39m7\u001b[39m \u001b[39m*\u001b[39m \u001b[39m7\u001b[39m, \u001b[39m128\u001b[39m),  \u001b[39m# Fully connected layer\u001b[39;00m\n\u001b[0;32m     <a href='vscode-notebook-cell:/c%3A/Informatique/EmbeddedAI/Lab1/Lab1.ipynb#X51sZmlsZQ%3D%3D?line=18'>19</a>\u001b[0m         nn\u001b[39m.\u001b[39mReLU(),\n\u001b[0;32m     <a href='vscode-notebook-cell:/c%3A/Informatique/EmbeddedAI/Lab1/Lab1.ipynb#X51sZmlsZQ%3D%3D?line=19'>20</a>\u001b[0m         nn\u001b[39m.\u001b[39mDropout(\u001b[39m0.5\u001b[39m),  \u001b[39m# Dropout layer for regularization\u001b[39;00m\n\u001b[0;32m     <a href='vscode-notebook-cell:/c%3A/Informatique/EmbeddedAI/Lab1/Lab1.ipynb#X51sZmlsZQ%3D%3D?line=20'>21</a>\u001b[0m         nn\u001b[39m.\u001b[39mLinear(\u001b[39m128\u001b[39m, num_classes)  \u001b[39m# Output layer\u001b[39;00m\n\u001b[0;32m     <a href='vscode-notebook-cell:/c%3A/Informatique/EmbeddedAI/Lab1/Lab1.ipynb#X51sZmlsZQ%3D%3D?line=21'>22</a>\u001b[0m     )\n",
      "\u001b[1;31mAttributeError\u001b[0m: 'super' object has no attribute '_CustomCNN__init'"
     ]
    }
   ],
   "source": [
    "import torch\n",
    "import torch.nn as nn\n",
    "\n",
    "class CustomCNN(nn.Module):\n",
    "    def __init__(self, num_classes):\n",
    "        super(CustomCNN, self).__init__()\n",
    "        self.features = nn.Sequential(\n",
    "            nn.Conv2d(1, 32, kernel_size=3, padding=1),  # 1 input channel, 32 output channels, 3x3 kernel\n",
    "            nn.ReLU(),\n",
    "            nn.MaxPool2d(kernel_size=2, stride=2),  # Max-pooling layer\n",
    "            nn.BatchNorm2d(32),  # Batch normalization\n",
    "            nn.Conv2d(32, 64, kernel_size=3, padding=1),\n",
    "            nn.ReLU(),\n",
    "            nn.MaxPool2d(kernel_size=2, stride=2),\n",
    "            nn.BatchNorm2d(64)\n",
    "        )\n",
    "        self.classifier = nn.Sequential(\n",
    "            nn.Linear(64 * 7 * 7, 128),  # Fully connected layer\n",
    "            nn.ReLU(),\n",
    "            nn.Dropout(0.5),  # Dropout layer for regularization\n",
    "            nn.Linear(128, num_classes)  # Output layer\n",
    "        )\n",
    "\n",
    "    def forward(self, x):\n",
    "        x = self.features(x)\n",
    "        x = x.view(x.size(0), -1)\n",
    "        x = self.classifier(x)\n",
    "        return x\n",
    "\n",
    "# Instantiate the custom model\n",
    "custom_net = CustomCNN(num_classes=10)\n",
    "\n",
    "\n",
    "# Define loss and optimizer\n",
    "loss_fn = nn.CrossEntropyLoss()\n",
    "optimizer = torch.optim.Adam(custom_net.parameters(), lr=0.001)\n",
    "\n",
    "train_and_display(custom_net, train_loader, test_loader, loss_fn, metric, optimizer, device, num_epochs)\n",
    "\n",
    "# Save the model state to a file\n",
    "model_state_file = 'custom_model_state.pth'\n",
    "torch.save(custom_net.state_dict(), model_state_file)\n"
   ]
  }
 ],
 "metadata": {
  "colab": {
   "provenance": []
  },
  "kernelspec": {
   "display_name": "Python 3 (ipykernel)",
   "language": "python",
   "name": "python3"
  },
  "language_info": {
   "codemirror_mode": {
    "name": "ipython",
    "version": 3
   },
   "file_extension": ".py",
   "mimetype": "text/x-python",
   "name": "python",
   "nbconvert_exporter": "python",
   "pygments_lexer": "ipython3",
   "version": "3.10.6"
  },
  "vscode": {
   "interpreter": {
    "hash": "e7370f93d1d0cde622a1f8e1c04877d8463912d04d973331ad4851f04de6915a"
   }
  }
 },
 "nbformat": 4,
 "nbformat_minor": 1
}
