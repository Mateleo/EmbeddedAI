{
 "cells": [
  {
   "cell_type": "markdown",
   "metadata": {
    "id": "1DR8sOyGVouN"
   },
   "source": [
    "# Introduction to PyTorch\n",
    "\n",
    "This tutorial shows the basics of PyTorch library.\n",
    "\n",
    "We design simple Neural Networks for classification task on MNIST dataset.\n",
    "\n",
    "You're probably going to need PyTorch documentation:\n",
    "\n",
    "https://pytorch.org/docs/stable/index.html\n",
    "\n",
    "and tutorials:\n",
    "\n",
    "https://pytorch.org/tutorials/beginner/basics/quickstart_tutorial.html"
   ]
  },
  {
   "cell_type": "code",
   "execution_count": null,
   "metadata": {
    "id": "E5QMPFndVouV"
   },
   "outputs": [],
   "source": [
    "!mkdir data"
   ]
  },
  {
   "cell_type": "markdown",
   "metadata": {
    "id": "h-ki0qvmVouY"
   },
   "source": [
    "1. PyTorch is based on tensor operations. First' let's try using them:\n",
    "- create simple python list with four values and convert it to PyTorch tensor\n",
    "- create numpy array with random values and shape (1,3,7,7) and convert it to Pytorch tensor\n",
    "- create PyTorch tensor with random values and shape (1,3,7,7) with preset seed\n",
    "- create PyTorch tensor with linear space in range from -5 to 15 and reshape it to tensor with shape (1,3,7,7)\n",
    "- create PyTorch tensor of zeros with shape (1,3,7,7)\n",
    "\n",
    "For display use `print` function."
   ]
  },
  {
   "cell_type": "code",
   "execution_count": null,
   "metadata": {
    "id": "EfXwC4GtVouZ"
   },
   "outputs": [],
   "source": [
    "import torch\n",
    "t = ..."
   ]
  },
  {
   "cell_type": "markdown",
   "metadata": {
    "id": "oY1ommaFVoua"
   },
   "source": [
    "2. PyTorch allow for applying GPU for computations.\n",
    "Check is gpu (CUDA) is available, then use it as `device`, else use `'cpu'`. Then, move one of your tensors to selected device."
   ]
  },
  {
   "cell_type": "code",
   "execution_count": null,
   "metadata": {
    "id": "CW8eqehrVoub"
   },
   "outputs": [],
   "source": [
    "device = ..."
   ]
  },
  {
   "cell_type": "markdown",
   "metadata": {
    "id": "GB0dnOCgVouc"
   },
   "source": [
    "3. To train a networks we need a dataset.\n",
    "\n",
    "Please download `MINIST` dataset with `torchvision.dataset`.\n",
    "\n",
    "For any kind of ML task, validation or testing is required.\n",
    "\n",
    "So, create train and test datasets.\n",
    "\n",
    "For train dataset apply also augmentation transforms, crop, translation and rotation.\n",
    "\n",
    "For both apply ToTensor.\n",
    "\n",
    "Next, pack datasets into `DataLoader`s with batch size of 64.\n",
    "Use variables with names: `train_loader` and `test_loader`.\n",
    "\n",
    "Next display sizes of datasets, shapes of elements and display few images and their labels.\n",
    "\n",
    "Finally, compare the number of object in each class in both datasets."
   ]
  },
  {
   "cell_type": "code",
   "execution_count": null,
   "metadata": {
    "id": "7_2cG06JVoud",
    "outputId": "58aa6b7a-62d2-4f85-ca20-a91e96633744"
   },
   "outputs": [
    {
     "name": "stderr",
     "output_type": "stream",
     "text": [
      "938it [00:05, 179.55it/s]\n"
     ]
    }
   ],
   "source": [
    "import torch\n",
    "from torch.utils.data import DataLoader\n",
    "from torchvision import datasets\n",
    "from torchvision.transforms import ToTensor\n",
    "import matplotlib.pyplot as plt\n",
    "\n",
    "\n",
    "...\n",
    "\n",
    "train_loader = ...\n",
    "test_loader = ...\n"
   ]
  },
  {
   "cell_type": "markdown",
   "metadata": {
    "id": "Zy1hfJ2eVouh"
   },
   "source": [
    "5. We have our dataset ready, lets create model for classification task.\n",
    "\n",
    "Please, define class `MLP` as Multi Layer Perceptron with two hidden fully connected layers with bias.\n",
    "\n",
    "Class must inherits from `torch.nn.Module`.\n",
    "\n",
    "Apply following configuration:\n",
    "\n",
    "- first layer with 512 neurons,\n",
    "- second layer with 512 neurons,\n",
    "- output layer adjust to size of classification problem.\n",
    "\n",
    "For `__init__` method add parameters: input_shape and output_size.\n",
    "\n",
    "Don't forget about nonlinearities!\n",
    "\n",
    "For hidden layers you can use `ReLU` module from `torch.nn`.\n",
    "\n",
    "For output apply softmax function.\n",
    "\n",
    "Network layer-by-layer processing define in `forward` method with argument as a network\n",
    "\n",
    "input tensor - batch of images with shape (batch_size, channels, height, width).\n",
    "(channels = 1, for gray scale images)\n",
    "\n",
    "Instantiate model as `net` object.\n",
    "\n",
    "Layers:\n",
    "- `torch.nn.Sequential`\n",
    "    - layer allows for forward pass through\n",
    "        component layers:\n",
    "        ```\n",
    "        t_in: Tensor\n",
    "        t_out: Tensor = t_in\n",
    "        for L in layers:\n",
    "            t_out = L(t_out)\n",
    "        return t_out```\n",
    "        \n",
    "- `torch.nn.Flatten`\n",
    "    - layer makes input tensor flattened:\n",
    "    - (bs,CH,H,W) - > (bs,CH*H*W)\n",
    "    \n",
    "- `torch.nn.Linear(ch_in, ch_out, bias)`\n",
    "    - 'classical' neural network layer - fully connected\n",
    "    - ch_in is a number of input channels\n",
    "    - ch_out is number of output channels / number of neurons in layer\n",
    "    - bias - whether to use bias parameter\n",
    "    - for Linear layers it is recommended to use flatten layer before,\n",
    "            when input has more than 2 dimensions\n",
    "    - operation implemented by this layer is a vector / matrix multiplication\n",
    "        - `y = W x v` or `y = W x v + b`\n",
    "        - W has a shape [ch_out, ch_in]\n",
    "        - v has a shape [ch_in]\n",
    "        - b has a shape [ch_in]\n",
    "        - y has a shape [ch_out]\n",
    "\n",
    "- `torch.nn.ReLU`\n",
    "    - layer applies ReLU function on input tensor\n",
    "    \n",
    "- `torch.nn.Softmax(dim)`\n",
    "    - layer applies softmax function on input tensor\n",
    "    - `dim` - dimension over which function is calculated\n",
    "\n",
    "\n",
    "For the formulas of activation function go to [torch documentation](https://pytorch.org/docs/stable/index.html)"
   ]
  },
  {
   "cell_type": "code",
   "execution_count": null,
   "metadata": {
    "id": "BA0BxD7VVoui"
   },
   "outputs": [],
   "source": [
    "\n",
    "class MLP(...):\n",
    "\n",
    "    def __init__(self, ) -> None:\n",
    "        super().__init__()\n",
    "\n",
    "    def forward(sefl, x: torch.Tensor) -> torch.Tensor:\n",
    "        pass\n",
    "\n",
    "\n",
    "net = ...\n",
    "net = net.to(device)"
   ]
  },
  {
   "cell_type": "markdown",
   "metadata": {
    "id": "xX8LT108Vouj"
   },
   "source": [
    "6. To train network we need to know 'how good or bad' results it gives.\n",
    "Please, instantiate `torch.nn.CrossEntropyLoss` as `loss_fcn`."
   ]
  },
  {
   "cell_type": "code",
   "execution_count": null,
   "metadata": {
    "id": "gJ35yqAKVouj"
   },
   "outputs": [],
   "source": []
  },
  {
   "cell_type": "markdown",
   "metadata": {
    "id": "e89_zcP_Vouj"
   },
   "source": [
    "7. To score network define accuracy metric.\n",
    "For network output you need to decide what is the final network answer. For clasification we can assume, that the final answer is the class with highest probability (`argmax`).\n",
    "\n",
    "`torch.no_grad()` prevents gradient requirement for computations inside method."
   ]
  },
  {
   "cell_type": "code",
   "execution_count": null,
   "metadata": {
    "id": "E8G76LxcVouk"
   },
   "outputs": [],
   "source": [
    "from abc import ABC, abstractmethod\n",
    "from typing import Any\n",
    "\n",
    "\n",
    "class BaseMetic(ABC):\n",
    "\n",
    "    @abstractmethod\n",
    "    def __call__(self, y_pred, y_ref) -> Any:\n",
    "        raise NotImplementedError()\n",
    "\n",
    "\n",
    "class AccuracyMetic(BaseMetic):\n",
    "\n",
    "    def __init__(self) -> None:\n",
    "        pass\n",
    "\n",
    "    @torch.no_grad()\n",
    "    def __call__(self, y_pred: torch.Tensor, y_ref: torch.Tensor) -> torch.Tensor:\n",
    "        \"\"\"\n",
    "        :param y_pred: tensor of shape (batch_size, num_of_classes) type float\n",
    "        :param y_ref: tensor with shape (batch_size,) and type Long\n",
    "        :return: scalar tensor with accuracy metric for batch\n",
    "        \"\"\"\n",
    "        # scalar value\n",
    "        score: torch.Tensor = ...\n",
    "\n",
    "        return score\n",
    "\n",
    "\n",
    "metric = AccuracyMetic()"
   ]
  },
  {
   "cell_type": "markdown",
   "metadata": {
    "id": "vzGWdKhNVouk"
   },
   "source": [
    "8. To change network parameters, we need optimizers object.\n",
    "Instantiate `torch.optim.SGD` (with `net`work parameters) as `optimizer`.\n",
    "Use learning rate = 0.001"
   ]
  },
  {
   "cell_type": "code",
   "execution_count": null,
   "metadata": {
    "id": "snItwusOVoul"
   },
   "outputs": [],
   "source": [
    "optimizer = ..."
   ]
  },
  {
   "cell_type": "markdown",
   "metadata": {
    "id": "pXL9hO0nVoul"
   },
   "source": [
    "9. Now define training / testing function:"
   ]
  },
  {
   "cell_type": "code",
   "execution_count": null,
   "metadata": {
    "id": "7A8UntjSVoum"
   },
   "outputs": [],
   "source": [
    "from typing import Tuple\n",
    "import tqdm\n",
    "\n",
    "\n",
    "def train_or_test(model,\n",
    "          data_generator,\n",
    "          criterion,\n",
    "          metric: BaseMetic,\n",
    "          mode: str = 'test',\n",
    "          optimizer: torch.optim.Optimizer = None,\n",
    "          update_period: int = None,\n",
    "          device = torch.device('cpu')) -> Tuple[torch.nn.Module, float, float]:\n",
    "\n",
    "    # change model mode to train or test\n",
    "    if mode == 'train':\n",
    "        ...\n",
    "\n",
    "    elif mode == 'test':\n",
    "        ...\n",
    "\n",
    "    else:\n",
    "        raise RuntimeError(\"Unsupported mode.\")\n",
    "\n",
    "    # move model to device\n",
    "    ...\n",
    "\n",
    "    # reset model parameters' gradients with optimizer\n",
    "    if mode == 'train':\n",
    "        ...\n",
    "\n",
    "    total_loss = 0.0\n",
    "    total_accuracy = 0.0\n",
    "    samples_num = 0\n",
    "\n",
    "    for i, (X, y) in tqdm.tqdm(enumerate(data_generator)):\n",
    "        # convert tensors to device\n",
    "        ...\n",
    "\n",
    "        # process by network\n",
    "        y_pred = ...\n",
    "\n",
    "        # calculate loss\n",
    "        loss = ...\n",
    "\n",
    "        # designate gradient based on loss\n",
    "        ...\n",
    "\n",
    "        if mode == 'train' and (i+1) % update_period == 0:\n",
    "            # update parameters with optimizer\n",
    "            ...\n",
    "\n",
    "        # calculate accuracy\n",
    "        accuracy = ...\n",
    "\n",
    "        total_loss += loss.item() * y_pred.shape[0]\n",
    "        total_accuracy += accuracy.item() * y_pred.shape[0]\n",
    "        samples_num += y_pred.shape[0]\n",
    "\n",
    "    if samples_num == 0:\n",
    "        return model, 0.0, 0.0\n",
    "\n",
    "    return model, total_loss / samples_num, total_accuracy / samples_num"
   ]
  },
  {
   "cell_type": "markdown",
   "metadata": {
    "id": "hkIVA8O7Voum"
   },
   "source": [
    "10. Prepare training loop (over epochs) function:\n",
    "- adjust max number of epochs to achieve satisfactory results.\n",
    "- `**` additionally, implement stopping training when accuracy ."
   ]
  },
  {
   "cell_type": "code",
   "execution_count": null,
   "metadata": {
    "id": "By_N80A3Voun"
   },
   "outputs": [],
   "source": [
    "def training(model,\n",
    "             train_loader,\n",
    "             loss_fcn,\n",
    "             metric,\n",
    "             optimizer,\n",
    "             update_period,\n",
    "             epoch_max,\n",
    "             device):\n",
    "    loss_train = []\n",
    "    loss_test = []\n",
    "    acc_train = []\n",
    "    acc_test = []\n",
    "\n",
    "    for e in range(epoch_max):\n",
    "      ...\n",
    "    return model, {'loss_train': loss_train,\n",
    "                   'acc_train': acc_train,\n",
    "                   'loss_test': loss_test,\n",
    "                   'acc_test': acc_test}\n",
    "\n",
    "net, history = training(net,\n",
    "                        train_loader,\n",
    "                        loss_fcn,\n",
    "                        metric,\n",
    "                        optimizer,\n",
    "                        update_period=5,\n",
    "                        epoch_max=30,\n",
    "                        device=device)"
   ]
  },
  {
   "cell_type": "markdown",
   "metadata": {
    "id": "6UjpPqYIVoun"
   },
   "source": [
    "11. Display training history."
   ]
  },
  {
   "cell_type": "code",
   "execution_count": null,
   "metadata": {
    "id": "H49386vobZUj"
   },
   "outputs": [],
   "source": [
    "..."
   ]
  },
  {
   "cell_type": "markdown",
   "metadata": {
    "id": "rI08yFn8Vouo"
   },
   "source": [
    "12. Save model and optimizer states to files.\n",
    "\n",
    "Use method `state_dict` and function `torch.save`."
   ]
  },
  {
   "cell_type": "code",
   "execution_count": null,
   "metadata": {
    "id": "LmSvHf0gVouo"
   },
   "outputs": [],
   "source": [
    "..."
   ]
  },
  {
   "cell_type": "markdown",
   "metadata": {
    "id": "HpFF_fDZVouo"
   },
   "source": [
    "13. Create new network with the same architecture and initialize it with saved weights. Compare evaluations for both networks\n",
    "\n",
    "`torch.load`, `load_state_dict`."
   ]
  },
  {
   "cell_type": "code",
   "execution_count": null,
   "metadata": {
    "id": "Se9FuqrNVoup"
   },
   "outputs": [],
   "source": [
    "net2 = ...\n",
    "..."
   ]
  },
  {
   "cell_type": "markdown",
   "metadata": {
    "id": "CSZOeaG6Voup"
   },
   "source": [
    "14. Define your own model and train it.\n",
    "\n",
    "Try achieve better results.\n",
    "\n",
    "You can use different parameters, layers e.g.:\n",
    "- conv2d\n",
    "- maxpooling2d\n",
    "- batch norm 2d\n",
    "- and more...\n",
    "\n",
    "Save weights to file."
   ]
  },
  {
   "cell_type": "code",
   "execution_count": null,
   "metadata": {
    "id": "HavZWqHQVoup"
   },
   "outputs": [],
   "source": [
    "..."
   ]
  }
 ],
 "metadata": {
  "colab": {
   "provenance": []
  },
  "kernelspec": {
   "display_name": "Python 3 (ipykernel)",
   "language": "python",
   "name": "python3"
  },
  "language_info": {
   "codemirror_mode": {
    "name": "ipython",
    "version": 3
   },
   "file_extension": ".py",
   "mimetype": "text/x-python",
   "name": "python",
   "nbconvert_exporter": "python",
   "pygments_lexer": "ipython3",
   "version": "3.8.10"
  },
  "vscode": {
   "interpreter": {
    "hash": "e7370f93d1d0cde622a1f8e1c04877d8463912d04d973331ad4851f04de6915a"
   }
  }
 },
 "nbformat": 4,
 "nbformat_minor": 1
}
